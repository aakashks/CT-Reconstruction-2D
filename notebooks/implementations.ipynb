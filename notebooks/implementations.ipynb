{
 "cells": [
  {
   "cell_type": "markdown",
   "id": "57ad2bb7488761c3",
   "metadata": {
    "collapsed": false
   },
   "source": [
    "# Test Notebook"
   ]
  },
  {
   "cell_type": "markdown",
   "id": "63a7ad84239f12c9",
   "metadata": {
    "collapsed": false
   },
   "source": [
    "This notebook is just for illustrating how all the implemented logics work and for testing their usage\\\n",
    "However, the complete application has been tested with the data in the json and csv files."
   ]
  },
  {
   "cell_type": "code",
   "execution_count": 1,
   "id": "4df6dfd05614550f",
   "metadata": {
    "collapsed": false,
    "ExecuteTime": {
     "end_time": "2023-09-22T17:57:53.725573900Z",
     "start_time": "2023-09-22T17:57:53.694399400Z"
    }
   },
   "outputs": [],
   "source": [
    "import numpy as np\n",
    "import matplotlib.pyplot as plt\n",
    "from core import *"
   ]
  },
  {
   "cell_type": "markdown",
   "id": "cb9c861000af77f",
   "metadata": {
    "collapsed": false
   },
   "source": [
    "## Intercept Logic"
   ]
  },
  {
   "cell_type": "code",
   "execution_count": 2,
   "id": "74158a4eaf8d8229",
   "metadata": {
    "collapsed": false,
    "ExecuteTime": {
     "end_time": "2023-09-22T17:57:53.740940Z",
     "start_time": "2023-09-22T17:57:53.725573900Z"
    }
   },
   "outputs": [],
   "source": [
    "m = 0.2875\n",
    "c = 1.21\n",
    "\n",
    "z = 10\n",
    "n = 10"
   ]
  },
  {
   "cell_type": "code",
   "execution_count": 3,
   "id": "4f2bbde205dee998",
   "metadata": {
    "collapsed": false,
    "ExecuteTime": {
     "end_time": "2023-09-22T17:57:53.787782500Z",
     "start_time": "2023-09-22T17:57:53.740940Z"
    }
   },
   "outputs": [],
   "source": [
    "line_from_x = lambda x: m * x + c\n",
    "line_from_y = lambda y: (y - c)/m \n",
    "\n",
    "x = np.linspace(0, z, n, endpoint=False)\n",
    "k = z/n"
   ]
  },
  {
   "cell_type": "code",
   "execution_count": 4,
   "id": "552e9aa103ea0b3d",
   "metadata": {
    "collapsed": false,
    "ExecuteTime": {
     "end_time": "2023-09-22T17:57:53.787782500Z",
     "start_time": "2023-09-22T17:57:53.756570500Z"
    }
   },
   "outputs": [],
   "source": [
    "X, Y = np.meshgrid(x, x)\n",
    "Y_left = line_from_x(X)\n",
    "Y_right = line_from_x(X+k)\n",
    "X_down = line_from_y(Y)\n",
    "X_up = line_from_y(Y+k)"
   ]
  },
  {
   "cell_type": "code",
   "execution_count": 5,
   "id": "a5ddb3d7d5ff107f",
   "metadata": {
    "collapsed": false,
    "ExecuteTime": {
     "end_time": "2023-09-22T17:57:54.161795300Z",
     "start_time": "2023-09-22T17:57:53.772161800Z"
    }
   },
   "outputs": [
    {
     "data": {
      "text/plain": "<Figure size 640x480 with 1 Axes>",
      "image/png": "[encoded data removed]"
     },
     "metadata": {},
     "output_type": "display_data"
    }
   ],
   "source": [
    "plt.scatter(X, Y)\n",
    "plt.scatter(X, Y_left)\n",
    "plt.scatter(X_down, Y)\n",
    "plt.scatter(X+k, Y_right)\n",
    "plt.scatter(X_up, Y+k)\n",
    "\n",
    "plt.xlim([0, z])\n",
    "plt.ylim([0, z])\n",
    "\n",
    "plt.xticks(np.arange(0, z, k))\n",
    "plt.yticks(np.arange(0, z, k))\n",
    "\n",
    "plt.grid(visible=True);"
   ]
  },
  {
   "cell_type": "code",
   "execution_count": 6,
   "id": "707c01fa5e56ace4",
   "metadata": {
    "collapsed": false,
    "ExecuteTime": {
     "end_time": "2023-09-22T17:57:54.161795300Z",
     "start_time": "2023-09-22T17:57:54.146375400Z"
    }
   },
   "outputs": [],
   "source": [
    "Il = np.dstack([np.where(np.logical_and(Y <= Y_left, Y_left < Y+k), X, 0), \n",
    "                np.where(np.logical_and(Y <= Y_left, Y_left < Y+k), Y_left, 0)])"
   ]
  },
  {
   "cell_type": "code",
   "execution_count": 7,
   "id": "39bbb4e1330f30e3",
   "metadata": {
    "collapsed": false,
    "ExecuteTime": {
     "end_time": "2023-09-22T17:57:54.224326Z",
     "start_time": "2023-09-22T17:57:54.161795300Z"
    }
   },
   "outputs": [],
   "source": [
    "Ir = np.dstack([np.where(np.logical_and(Y <= Y_right, Y_right < Y + k), X+k, 0),\n",
    "                np.where(np.logical_and(Y <= Y_right, Y_right < Y + k), Y_right, 0)])"
   ]
  },
  {
   "cell_type": "code",
   "execution_count": 8,
   "id": "45a34e86ccd1753d",
   "metadata": {
    "collapsed": false,
    "ExecuteTime": {
     "end_time": "2023-09-22T17:57:54.224326Z",
     "start_time": "2023-09-22T17:57:54.177456200Z"
    }
   },
   "outputs": [],
   "source": [
    "Id = np.dstack([np.where(np.logical_and(X <= X_down, X_down < X + k), X_down, 0),\n",
    "                np.where(np.logical_and(X <= X_down, X_down < X + k), Y, 0)])"
   ]
  },
  {
   "cell_type": "code",
   "execution_count": 9,
   "id": "48e7109e2957b2a7",
   "metadata": {
    "collapsed": false,
    "ExecuteTime": {
     "end_time": "2023-09-22T17:57:54.224326Z",
     "start_time": "2023-09-22T17:57:54.193061Z"
    }
   },
   "outputs": [],
   "source": [
    "Iu = np.dstack([np.where(np.logical_and(X <= X_up, X_up < X + k), X_up, 0),\n",
    "                np.where(np.logical_and(X <= X_up, X_up < X + k), Y+1, 0)])"
   ]
  },
  {
   "cell_type": "code",
   "execution_count": 10,
   "id": "e5162945fa9fbfc2",
   "metadata": {
    "collapsed": false,
    "ExecuteTime": {
     "end_time": "2023-09-22T17:57:54.224326Z",
     "start_time": "2023-09-22T17:57:54.208680400Z"
    }
   },
   "outputs": [],
   "source": [
    "I = np.abs(np.abs(Il - Ir) - np.abs(Id - Iu))"
   ]
  },
  {
   "cell_type": "code",
   "execution_count": 11,
   "id": "84f3aa1681180cbd",
   "metadata": {
    "collapsed": false,
    "ExecuteTime": {
     "end_time": "2023-09-22T17:57:54.255561700Z",
     "start_time": "2023-09-22T17:57:54.224326Z"
    }
   },
   "outputs": [],
   "source": [
    "intercept_matrix = np.apply_along_axis(lambda xy: np.sqrt(xy[0]**2 + xy[1]**2), 2, I)"
   ]
  },
  {
   "cell_type": "code",
   "execution_count": 12,
   "id": "aa8ae6f19ba6e19c",
   "metadata": {
    "collapsed": false,
    "ExecuteTime": {
     "end_time": "2023-09-22T17:57:54.318235200Z",
     "start_time": "2023-09-22T17:57:54.239939800Z"
    }
   },
   "outputs": [
    {
     "data": {
      "text/plain": "array([[0.        , 0.        , 0.        , 0.        , 0.        ,\n        0.        , 0.        , 0.        , 0.        , 0.        ],\n       [1.04050769, 1.04050769, 0.77811879, 0.        , 0.        ,\n        0.        , 0.        , 0.        , 0.        , 0.        ],\n       [0.        , 0.        , 0.2623889 , 1.04050769, 1.04050769,\n        1.04050769, 0.23524522, 0.        , 0.        , 0.        ],\n       [0.        , 0.        , 0.        , 0.        , 0.        ,\n        0.        , 0.80526247, 1.04050769, 1.04050769, 0.73287933],\n       [0.        , 0.        , 0.        , 0.        , 0.        ,\n        0.        , 0.        , 0.        , 0.        , 0.30762836],\n       [0.        , 0.        , 0.        , 0.        , 0.        ,\n        0.        , 0.        , 0.        , 0.        , 0.        ],\n       [0.        , 0.        , 0.        , 0.        , 0.        ,\n        0.        , 0.        , 0.        , 0.        , 0.        ],\n       [0.        , 0.        , 0.        , 0.        , 0.        ,\n        0.        , 0.        , 0.        , 0.        , 0.        ],\n       [0.        , 0.        , 0.        , 0.        , 0.        ,\n        0.        , 0.        , 0.        , 0.        , 0.        ],\n       [0.        , 0.        , 0.        , 0.        , 0.        ,\n        0.        , 0.        , 0.        , 0.        , 0.        ]])"
     },
     "execution_count": 12,
     "metadata": {},
     "output_type": "execute_result"
    }
   ],
   "source": [
    "intercept_matrix"
   ]
  },
  {
   "cell_type": "code",
   "execution_count": 13,
   "id": "249cd2bf337597f0",
   "metadata": {
    "collapsed": false,
    "ExecuteTime": {
     "end_time": "2023-09-22T17:57:54.553043Z",
     "start_time": "2023-09-22T17:57:54.255561700Z"
    }
   },
   "outputs": [
    {
     "data": {
      "text/plain": "<Figure size 640x480 with 1 Axes>",
      "image/png": "[encoded data removed]"
     },
     "metadata": {},
     "output_type": "display_data"
    }
   ],
   "source": [
    "plt.imshow(intercept_matrix, interpolation='bilinear')\n",
    "\n",
    "plt.xticks(np.arange(0, z, k))\n",
    "plt.yticks(np.arange(0, z, k))\n",
    "\n",
    "plt.grid(True);"
   ]
  },
  {
   "cell_type": "code",
   "execution_count": 14,
   "id": "2f9ea263d6480d12",
   "metadata": {
    "collapsed": false,
    "ExecuteTime": {
     "end_time": "2023-09-22T17:57:54.614007300Z",
     "start_time": "2023-09-22T17:57:54.553043Z"
    }
   },
   "outputs": [
    {
     "data": {
      "text/plain": "array([0.        , 0.        , 0.        , 0.        , 0.        ,\n       0.        , 0.        , 0.        , 0.        , 0.        ,\n       1.04050769, 1.04050769, 0.77811879, 0.        , 0.        ,\n       0.        , 0.        , 0.        , 0.        , 0.        ,\n       0.        , 0.        , 0.2623889 , 1.04050769, 1.04050769,\n       1.04050769, 0.23524522, 0.        , 0.        , 0.        ,\n       0.        , 0.        , 0.        , 0.        , 0.        ,\n       0.        , 0.80526247, 1.04050769, 1.04050769, 0.73287933,\n       0.        , 0.        , 0.        , 0.        , 0.        ,\n       0.        , 0.        , 0.        , 0.        , 0.30762836,\n       0.        , 0.        , 0.        , 0.        , 0.        ,\n       0.        , 0.        , 0.        , 0.        , 0.        ,\n       0.        , 0.        , 0.        , 0.        , 0.        ,\n       0.        , 0.        , 0.        , 0.        , 0.        ,\n       0.        , 0.        , 0.        , 0.        , 0.        ,\n       0.        , 0.        , 0.        , 0.        , 0.        ,\n       0.        , 0.        , 0.        , 0.        , 0.        ,\n       0.        , 0.        , 0.        , 0.        , 0.        ,\n       0.        , 0.        , 0.        , 0.        , 0.        ,\n       0.        , 0.        , 0.        , 0.        , 0.        ])"
     },
     "execution_count": 14,
     "metadata": {},
     "output_type": "execute_result"
    }
   ],
   "source": [
    "intercept_matrix.flatten()"
   ]
  },
  {
   "cell_type": "code",
   "execution_count": 15,
   "id": "9414f6c90d3eaea0",
   "metadata": {
    "collapsed": false,
    "ExecuteTime": {
     "end_time": "2023-09-22T17:57:54.614007300Z",
     "start_time": "2023-09-22T17:57:54.568660300Z"
    }
   },
   "outputs": [],
   "source": [
    "mat_restored = intercept_matrix.reshape(10,10)"
   ]
  },
  {
   "cell_type": "code",
   "execution_count": 16,
   "id": "a60e51649a8fad2e",
   "metadata": {
    "collapsed": false,
    "ExecuteTime": {
     "end_time": "2023-09-22T17:57:54.614007300Z",
     "start_time": "2023-09-22T17:57:54.584281900Z"
    }
   },
   "outputs": [
    {
     "data": {
      "text/plain": "array([[0.        , 0.        , 0.        , 0.        , 0.        ,\n        0.        , 0.        , 0.        , 0.        , 0.        ],\n       [1.04050769, 1.04050769, 0.77811879, 0.        , 0.        ,\n        0.        , 0.        , 0.        , 0.        , 0.        ],\n       [0.        , 0.        , 0.2623889 , 1.04050769, 1.04050769,\n        1.04050769, 0.23524522, 0.        , 0.        , 0.        ],\n       [0.        , 0.        , 0.        , 0.        , 0.        ,\n        0.        , 0.80526247, 1.04050769, 1.04050769, 0.73287933],\n       [0.        , 0.        , 0.        , 0.        , 0.        ,\n        0.        , 0.        , 0.        , 0.        , 0.30762836],\n       [0.        , 0.        , 0.        , 0.        , 0.        ,\n        0.        , 0.        , 0.        , 0.        , 0.        ],\n       [0.        , 0.        , 0.        , 0.        , 0.        ,\n        0.        , 0.        , 0.        , 0.        , 0.        ],\n       [0.        , 0.        , 0.        , 0.        , 0.        ,\n        0.        , 0.        , 0.        , 0.        , 0.        ],\n       [0.        , 0.        , 0.        , 0.        , 0.        ,\n        0.        , 0.        , 0.        , 0.        , 0.        ],\n       [0.        , 0.        , 0.        , 0.        , 0.        ,\n        0.        , 0.        , 0.        , 0.        , 0.        ]])"
     },
     "execution_count": 16,
     "metadata": {},
     "output_type": "execute_result"
    }
   ],
   "source": [
    "mat_restored"
   ]
  },
  {
   "cell_type": "markdown",
   "id": "d89b884666ba15b0",
   "metadata": {
    "collapsed": false
   },
   "source": [
    "## Line generating logic"
   ]
  },
  {
   "cell_type": "code",
   "execution_count": 17,
   "id": "1399575e7a37e489",
   "metadata": {
    "collapsed": false,
    "ExecuteTime": {
     "end_time": "2023-09-22T17:57:54.614007300Z",
     "start_time": "2023-09-22T17:57:54.599956800Z"
    }
   },
   "outputs": [],
   "source": [
    "n = 4\n",
    "r = 3\n",
    "phi = 2 * np.pi/ r\n",
    "x = 10\n",
    "theta = 0.05\n",
    "z = 5"
   ]
  },
  {
   "cell_type": "code",
   "execution_count": 18,
   "id": "c433885bc038d3fd",
   "metadata": {
    "collapsed": false,
    "ExecuteTime": {
     "end_time": "2023-09-22T17:57:54.645285400Z",
     "start_time": "2023-09-22T17:57:54.614007300Z"
    }
   },
   "outputs": [],
   "source": [
    "phis = (np.arange(r) * phi).reshape(-1, 1)\n",
    "thetas = np.arange(-n + 1, n, 2) * theta / 2   if n % 2 == 0 else     np.arange(-(n // 2), n // 2 + 1) * theta\n",
    "thetas = thetas.reshape(-1, 1)"
   ]
  },
  {
   "cell_type": "code",
   "execution_count": 19,
   "id": "e2e654b774131bbd",
   "metadata": {
    "collapsed": false,
    "ExecuteTime": {
     "end_time": "2023-09-22T17:57:54.716643400Z",
     "start_time": "2023-09-22T17:57:54.629658Z"
    }
   },
   "outputs": [
    {
     "data": {
      "text/plain": "(4, 1)"
     },
     "execution_count": 19,
     "metadata": {},
     "output_type": "execute_result"
    }
   ],
   "source": [
    "thetas.shape"
   ]
  },
  {
   "cell_type": "code",
   "execution_count": 20,
   "id": "9829bda0cad15a5f",
   "metadata": {
    "collapsed": false,
    "ExecuteTime": {
     "end_time": "2023-09-22T17:57:54.747888800Z",
     "start_time": "2023-09-22T17:57:54.645285400Z"
    }
   },
   "outputs": [],
   "source": [
    "\n",
    "# distances from the centre of the object\n",
    "distances_from_center = x * np.sin(thetas)\n",
    "\n",
    "# beta is slope of line (angle from +ve x-axis)\n",
    "# generate all possible values of beta for different combinations of theta and phi\n",
    "betas = (np.pi / 2 - thetas) + phis.T"
   ]
  },
  {
   "cell_type": "code",
   "execution_count": 21,
   "id": "1862d7c7c91991df",
   "metadata": {
    "collapsed": false,
    "ExecuteTime": {
     "end_time": "2023-09-22T17:57:54.747888800Z",
     "start_time": "2023-09-22T17:57:54.669755300Z"
    }
   },
   "outputs": [
    {
     "data": {
      "text/plain": "array([[-0.74929707],\n       [-0.24997396],\n       [ 0.24997396],\n       [ 0.74929707]])"
     },
     "execution_count": 21,
     "metadata": {},
     "output_type": "execute_result"
    }
   ],
   "source": [
    "distances_from_center"
   ]
  },
  {
   "cell_type": "code",
   "execution_count": 22,
   "id": "771b02d6a679889b",
   "metadata": {
    "collapsed": false,
    "ExecuteTime": {
     "end_time": "2023-09-22T17:57:54.763547700Z",
     "start_time": "2023-09-22T17:57:54.685388Z"
    }
   },
   "outputs": [
    {
     "data": {
      "text/plain": "array([[1.64579633, 3.74019143, 5.83458653],\n       [1.59579633, 3.69019143, 5.78458653],\n       [1.54579633, 3.64019143, 5.73458653],\n       [1.49579633, 3.59019143, 5.68458653]])"
     },
     "execution_count": 22,
     "metadata": {},
     "output_type": "execute_result"
    }
   ],
   "source": [
    "betas"
   ]
  },
  {
   "cell_type": "code",
   "execution_count": 23,
   "id": "2b0862eccc38281e",
   "metadata": {
    "collapsed": false,
    "ExecuteTime": {
     "end_time": "2023-09-22T17:57:54.763547700Z",
     "start_time": "2023-09-22T17:57:54.701007600Z"
    }
   },
   "outputs": [],
   "source": [
    "# changing origin\n",
    "distances_from_bottom_left = (1 - 1 / np.tan(betas)) * (z / 2) + distances_from_center/np.sin(betas)"
   ]
  },
  {
   "cell_type": "code",
   "execution_count": 24,
   "id": "ac48bb0b208b3d56",
   "metadata": {
    "collapsed": false,
    "ExecuteTime": {
     "end_time": "2023-09-22T17:57:54.763547700Z",
     "start_time": "2023-09-22T17:57:54.716643400Z"
    }
   },
   "outputs": [
    {
     "data": {
      "text/plain": "array([[ 1.93644293,  0.16450413,  9.42163463],\n       [ 2.31246093, -1.1111115 ,  7.61424363],\n       [ 2.68753907, -2.61424363,  6.1111115 ],\n       [ 3.06355707, -4.42163463,  4.83549587]])"
     },
     "execution_count": 24,
     "metadata": {},
     "output_type": "execute_result"
    }
   ],
   "source": [
    "distances_from_bottom_left"
   ]
  },
  {
   "cell_type": "code",
   "execution_count": 25,
   "id": "dbf54191dbdb3705",
   "metadata": {
    "collapsed": false,
    "ExecuteTime": {
     "end_time": "2023-09-22T17:57:54.763547700Z",
     "start_time": "2023-09-22T17:57:54.732266200Z"
    }
   },
   "outputs": [
    {
     "data": {
      "text/plain": "array([[ 1.93644293,  1.64579633],\n       [ 0.16450413,  3.74019143],\n       [ 9.42163463,  5.83458653],\n       [ 2.31246093,  1.59579633],\n       [-1.1111115 ,  3.69019143],\n       [ 7.61424363,  5.78458653],\n       [ 2.68753907,  1.54579633],\n       [-2.61424363,  3.64019143],\n       [ 6.1111115 ,  5.73458653],\n       [ 3.06355707,  1.49579633],\n       [-4.42163463,  3.59019143],\n       [ 4.83549587,  5.68458653]])"
     },
     "execution_count": 25,
     "metadata": {},
     "output_type": "execute_result"
    }
   ],
   "source": [
    "# merge distance and angle into a couple of parameters\n",
    "line_params_array = np.dstack([distances_from_bottom_left, betas]).reshape(-1, 2)\n",
    "line_params_array"
   ]
  },
  {
   "cell_type": "code",
   "execution_count": 26,
   "id": "8260260b",
   "metadata": {
    "ExecuteTime": {
     "end_time": "2023-09-22T17:57:55.045515800Z",
     "start_time": "2023-09-22T17:57:54.747888800Z"
    }
   },
   "outputs": [
    {
     "data": {
      "text/plain": "<Figure size 640x480 with 1 Axes>",
      "image/png": "[encoded data removed]"
     },
     "metadata": {},
     "output_type": "display_data"
    }
   ],
   "source": [
    "xp = np.linspace(0, z)\n",
    "for i, line in enumerate(line_params_array):\n",
    "    yp = np.tan(line[1]) * (xp - line[0])\n",
    "    plt.plot(xp, yp, label=i)\n",
    "    \n",
    "plt.xlim([0, z])\n",
    "plt.ylim([0, z]);\n",
    "# plt.legend()"
   ]
  },
  {
   "cell_type": "markdown",
   "id": "165fea543eb3c7b",
   "metadata": {
    "collapsed": false
   },
   "source": [
    "## Gauss Elimination"
   ]
  },
  {
   "cell_type": "markdown",
   "source": [
    "### General Solution"
   ],
   "metadata": {
    "collapsed": false
   },
   "id": "6c9053867a1858e6"
  },
  {
   "cell_type": "code",
   "execution_count": 27,
   "outputs": [
    {
     "data": {
      "text/plain": "array([[ 0],\n       [ 6],\n       [-6]])"
     },
     "execution_count": 27,
     "metadata": {},
     "output_type": "execute_result"
    }
   ],
   "source": [
    "A = np.array([[1,2,3,5],[2,4,8,12],[3,6,7,13]])\n",
    "b = np.array([0,6,-6]).reshape(-1,1)\n",
    "b"
   ],
   "metadata": {
    "collapsed": false,
    "ExecuteTime": {
     "end_time": "2023-09-22T17:57:55.061149700Z",
     "start_time": "2023-09-22T17:57:55.034882900Z"
    }
   },
   "id": "39776459f803e52d"
  },
  {
   "cell_type": "code",
   "execution_count": 28,
   "id": "38ea2de72176f413",
   "metadata": {
    "collapsed": false,
    "ExecuteTime": {
     "end_time": "2023-09-22T17:57:55.092402200Z",
     "start_time": "2023-09-22T17:57:55.061149700Z"
    }
   },
   "outputs": [],
   "source": [
    "m = b.shape[0]\n",
    "\n",
    "# augmenting A matrix with b\n",
    "aug_matrix = np.hstack([A, b]).astype('float64')\n",
    "# aug_matrix = aug_matrix.astype('float64')"
   ]
  },
  {
   "cell_type": "code",
   "execution_count": 29,
   "outputs": [
    {
     "data": {
      "text/plain": "array([[ 3.,  6.,  7., 13., -6.],\n       [ 2.,  4.,  8., 12.,  6.],\n       [ 1.,  2.,  3.,  5.,  0.]])"
     },
     "metadata": {},
     "output_type": "display_data"
    },
    {
     "data": {
      "text/plain": "array([[ 1.        ,  2.        ,  2.33333333,  4.33333333, -2.        ],\n       [ 0.        ,  0.        ,  3.33333333,  3.33333333, 10.        ],\n       [ 0.        ,  0.        ,  0.66666667,  0.66666667,  2.        ]])"
     },
     "metadata": {},
     "output_type": "display_data"
    },
    {
     "data": {
      "text/plain": "array([[ 1.00000000e+00,  2.00000000e+00,  0.00000000e+00,\n         2.00000000e+00, -9.00000000e+00],\n       [ 0.00000000e+00,  0.00000000e+00,  1.00000000e+00,\n         1.00000000e+00,  3.00000000e+00],\n       [ 0.00000000e+00,  0.00000000e+00,  0.00000000e+00,\n         3.33066907e-16,  2.22044605e-16]])"
     },
     "metadata": {},
     "output_type": "display_data"
    }
   ],
   "source": [
    "m, n = A.shape\n",
    "x_p = np.zeros([n, 1])\n",
    "X_n = np.zeros([n, 0])\n",
    "free_col = np.empty([m, 0])\n",
    "pivot_list = []\n",
    "k=-1\n",
    "for i in range(m):\n",
    "    k += 1\n",
    "    # partial pivoting\n",
    "    max_row = i + np.argmax(np.abs(aug_matrix[i:, k]))\n",
    "    aug_matrix[[i, max_row]] = aug_matrix[[max_row, i]]\n",
    "\n",
    "    pivot = aug_matrix[i, k]\n",
    "    \n",
    "    while pivot==0 and k<n:\n",
    "        id_col = np.zeros([n, 1])\n",
    "        id_col[k, 0] = 1\n",
    "        X_n = np.hstack([X_n, id_col])\n",
    "        \n",
    "        free_col = np.hstack([free_col, -aug_matrix[:, k].reshape(-1, 1)])  \n",
    "        k += 1\n",
    "        # if this row has no pivot (first 0 row)\n",
    "        if k == n:\n",
    "            break\n",
    "        pivot = aug_matrix[i, k]\n",
    "        \n",
    "    if k<n:\n",
    "        display(aug_matrix)\n",
    "        aug_matrix[i, :] /= pivot\n",
    "        \n",
    "        for j in range(0, m):\n",
    "            if j==i: continue\n",
    "            factor = aug_matrix[j, k]\n",
    "            aug_matrix[j, :] -= factor * aug_matrix[i, :]\n",
    "            \n",
    "        pivot_list.append([i, k])   \n",
    "        \n",
    "    else:\n",
    "        rank = i\n",
    "        break\n",
    "else:\n",
    "    rank = m\n",
    "    "
   ],
   "metadata": {
    "collapsed": false,
    "ExecuteTime": {
     "end_time": "2023-09-22T17:57:55.188779200Z",
     "start_time": "2023-09-22T17:57:55.076774100Z"
    }
   },
   "id": "c61d5351f8c62fe3"
  },
  {
   "cell_type": "code",
   "execution_count": 30,
   "outputs": [
    {
     "data": {
      "text/plain": "(array([[  1.        ,   2.        ,   0.        ,   0.        ,\n         -10.33333333],\n        [  0.        ,   0.        ,   1.        ,   0.        ,\n           2.33333333],\n        [  0.        ,   0.        ,   0.        ,   1.        ,\n           0.66666667]]),\n 3,\n [[0, 0], [1, 2], [2, 3]],\n 3)"
     },
     "execution_count": 30,
     "metadata": {},
     "output_type": "execute_result"
    }
   ],
   "source": [
    "aug_matrix, rank, pivot_list, k"
   ],
   "metadata": {
    "collapsed": false,
    "ExecuteTime": {
     "end_time": "2023-09-22T17:57:55.212791100Z",
     "start_time": "2023-09-22T17:57:55.108060400Z"
    }
   },
   "id": "dbd4138762adbb76"
  },
  {
   "cell_type": "code",
   "execution_count": 31,
   "outputs": [],
   "source": [
    "for j in range(k+1, n):\n",
    "    free_col = np.hstack([free_col, -aug_matrix[:, j].reshape(-1, 1)])\n",
    "    id_col = np.zeros([n, 1])\n",
    "    id_col[j, 0] = 1\n",
    "    X_n = np.hstack([X_n, id_col])\n",
    "    \n",
    "if aug_matrix[rank:, n].any(): \n",
    "    print('inconsistent system!!')"
   ],
   "metadata": {
    "collapsed": false,
    "ExecuteTime": {
     "end_time": "2023-09-22T17:57:55.212791100Z",
     "start_time": "2023-09-22T17:57:55.123707300Z"
    }
   },
   "id": "d2a5e8527b498057"
  },
  {
   "cell_type": "code",
   "execution_count": 32,
   "outputs": [
    {
     "data": {
      "text/plain": "(3,\n array([[-2.],\n        [-0.],\n        [-0.]]),\n array([[0.],\n        [1.],\n        [0.],\n        [0.]]))"
     },
     "execution_count": 32,
     "metadata": {},
     "output_type": "execute_result"
    }
   ],
   "source": [
    "k, free_col, X_n"
   ],
   "metadata": {
    "collapsed": false,
    "ExecuteTime": {
     "end_time": "2023-09-22T17:57:55.212791100Z",
     "start_time": "2023-09-22T17:57:55.141348500Z"
    }
   },
   "id": "40d036ff025ce3b"
  },
  {
   "cell_type": "code",
   "execution_count": 33,
   "outputs": [
    {
     "data": {
      "text/plain": "(array([[-10.33333333],\n        [  0.        ],\n        [  2.33333333],\n        [  0.66666667]]),\n array([[-2.],\n        [ 1.],\n        [-0.],\n        [-0.]]))"
     },
     "execution_count": 33,
     "metadata": {},
     "output_type": "execute_result"
    }
   ],
   "source": [
    "ctr=0\n",
    "for i, k in pivot_list:\n",
    "    x_p[k, 0] = aug_matrix[i, n] \n",
    "    X_n[k, :] = free_col[ctr, :]\n",
    "    ctr+=1\n",
    "    \n",
    "x_p, X_n"
   ],
   "metadata": {
    "collapsed": false,
    "ExecuteTime": {
     "end_time": "2023-09-22T17:57:55.212791100Z",
     "start_time": "2023-09-22T17:57:55.157520200Z"
    }
   },
   "id": "bc42b6161e42e7b5"
  },
  {
   "cell_type": "code",
   "execution_count": 34,
   "outputs": [
    {
     "data": {
      "text/plain": "array([[-12.33333333],\n       [  1.        ],\n       [  2.33333333],\n       [  0.66666667]])"
     },
     "execution_count": 34,
     "metadata": {},
     "output_type": "execute_result"
    }
   ],
   "source": [
    "x_soln = x_p + X_n[:, 0].reshape(-1, 1)\n",
    "x_soln"
   ],
   "metadata": {
    "collapsed": false,
    "ExecuteTime": {
     "end_time": "2023-09-22T17:57:55.212791100Z",
     "start_time": "2023-09-22T17:57:55.173174900Z"
    }
   },
   "id": "ab2bdbb66d968bce"
  },
  {
   "cell_type": "markdown",
   "source": [
    "## SVD"
   ],
   "metadata": {
    "collapsed": false
   },
   "id": "198a4813e896e64"
  },
  {
   "cell_type": "code",
   "execution_count": 35,
   "outputs": [
    {
     "data": {
      "text/plain": "array([[ 1,  2,  3,  5],\n       [ 2,  4,  8, 12],\n       [ 3,  6,  7, 13]])"
     },
     "execution_count": 35,
     "metadata": {},
     "output_type": "execute_result"
    }
   ],
   "source": [
    "A"
   ],
   "metadata": {
    "collapsed": false,
    "ExecuteTime": {
     "end_time": "2023-09-22T17:57:55.212791100Z",
     "start_time": "2023-09-22T17:57:55.197132900Z"
    }
   },
   "id": "97fe4a97a7201cf6"
  },
  {
   "cell_type": "code",
   "execution_count": 53,
   "outputs": [],
   "source": [
    "def power_iteration(A, num_iterations=1000, tol=1e-7):\n",
    "    b = np.random.rand(A.shape[1])\n",
    "\n",
    "    for _ in range(num_iterations):\n",
    "        Ab = np.dot(A, b)\n",
    "\n",
    "        # early stopping if we know Ab ~ 0, ie. eigv is close to 0\n",
    "        # if np.allclose(Ab, 0, atol=tol):\n",
    "        #     return np.zeros_like(b)\n",
    "\n",
    "        norm = np.linalg.norm(Ab)\n",
    "        b = Ab / norm\n",
    "\n",
    "    return b\n",
    "\n",
    "\n",
    "def svd(A, num_iterations=1000, tol=1e-7):\n",
    "    ATA = np.dot(A.T, A)\n",
    "\n",
    "    V = []\n",
    "    S = []\n",
    "\n",
    "    # finding right singular values\n",
    "    for _ in range(min(ATA.shape)):\n",
    "        eigenvector = power_iteration(ATA, num_iterations, tol)\n",
    "        eigenvalue = np.dot(np.dot(eigenvector, ATA), eigenvector)\n",
    "\n",
    "        if eigenvalue < tol:\n",
    "            break\n",
    "\n",
    "        eigenvector /= np.linalg.norm(eigenvector)\n",
    "\n",
    "        V.append(eigenvector)\n",
    "        S.append(eigenvalue)\n",
    "\n",
    "        # reduce lambda * vT v from the eigendecomposition of AtA\n",
    "        ATA = ATA - eigenvalue * np.outer(eigenvector, eigenvector)\n",
    "\n",
    "    S = np.sqrt(S)\n",
    "\n",
    "    # find the left singular vectors\n",
    "    U = []\n",
    "    for i in range(len(S)):\n",
    "        sigma_i = S[i]\n",
    "        vi = V[i]\n",
    "        ui = np.dot(A, vi) / sigma_i\n",
    "        U.append(ui)\n",
    "\n",
    "    U = np.column_stack(U)\n",
    "    Vt = np.column_stack(V).T\n",
    "\n",
    "    return U, S, Vt\n",
    "\n",
    "def pinv(A, num_iterations=1000, tol=1e-7):\n",
    "    U, S, Vt = svd(A, num_iterations, tol)\n",
    "    return np.linalg.multi_dot([Vt.T, np.diag(1/S), U.T])\n"
   ],
   "metadata": {
    "collapsed": false,
    "ExecuteTime": {
     "end_time": "2023-09-22T18:18:29.345942600Z",
     "start_time": "2023-09-22T18:18:29.267805500Z"
    }
   },
   "id": "275776a5e23ee394"
  },
  {
   "cell_type": "code",
   "execution_count": 54,
   "outputs": [
    {
     "name": "stdout",
     "output_type": "stream",
     "text": [
      "U matrix:\n",
      "[[ 0.27200152  0.00944703]\n",
      " [ 0.6554597   0.73029826]\n",
      " [ 0.70454791 -0.6830631 ]]\n",
      "\n",
      "S matrix (diagonal entries):\n",
      "[[22.95934769  0.        ]\n",
      " [ 0.          1.69362147]]\n",
      "\n",
      "V^T matrix:\n",
      "[[ 0.16100478  0.32200955  0.47873823  0.80074778]\n",
      " [-0.34195702 -0.68391404  0.64316938 -0.04074467]]\n"
     ]
    }
   ],
   "source": [
    "U, S, Vt = svd(A)\n",
    "print(\"U matrix:\")\n",
    "print(U)\n",
    "print(\"\\nS matrix (diagonal entries):\")\n",
    "print(np.diag(S))\n",
    "print(\"\\nV^T matrix:\")\n",
    "print(Vt)\n"
   ],
   "metadata": {
    "collapsed": false,
    "ExecuteTime": {
     "end_time": "2023-09-22T18:18:34.111860800Z",
     "start_time": "2023-09-22T18:18:34.018112100Z"
    }
   },
   "id": "9ad69f96f5c685b9"
  },
  {
   "cell_type": "code",
   "execution_count": 55,
   "outputs": [
    {
     "data": {
      "text/plain": "True"
     },
     "execution_count": 55,
     "metadata": {},
     "output_type": "execute_result"
    }
   ],
   "source": [
    "pinv = np.linalg.multi_dot([Vt.T, np.diag(1/S), U.T])\n",
    "np.allclose(pinv, np.linalg.pinv(A))"
   ],
   "metadata": {
    "collapsed": false,
    "ExecuteTime": {
     "end_time": "2023-09-22T18:18:36.218484100Z",
     "start_time": "2023-09-22T18:18:36.155839800Z"
    }
   },
   "id": "5576407d194f9b01"
  }
 ],
 "metadata": {
  "kernelspec": {
   "display_name": "Python 3",
   "language": "python",
   "name": "python3"
  },
  "language_info": {
   "codemirror_mode": {
    "name": "ipython",
    "version": 3
   },
   "file_extension": ".py",
   "mimetype": "text/x-python",
   "name": "python",
   "nbconvert_exporter": "python",
   "pygments_lexer": "ipython3",
   "version": "3.10.8"
  }
 },
 "nbformat": 4,
 "nbformat_minor": 5
}
