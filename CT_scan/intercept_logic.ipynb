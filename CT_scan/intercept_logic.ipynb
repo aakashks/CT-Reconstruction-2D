{
 "cells": [
  {
   "cell_type": "code",
   "execution_count": 31,
   "outputs": [],
   "source": [
    "import numpy as np\n",
    "import matplotlib.pyplot as plt"
   ],
   "metadata": {
    "collapsed": false,
    "ExecuteTime": {
     "end_time": "2023-08-28T20:02:43.854478200Z",
     "start_time": "2023-08-28T20:02:43.771448Z"
    }
   },
   "id": "4df6dfd05614550f"
  },
  {
   "cell_type": "code",
   "execution_count": 32,
   "outputs": [],
   "source": [
    "m = 0.6875\n",
    "c = 1.21"
   ],
   "metadata": {
    "collapsed": false,
    "ExecuteTime": {
     "end_time": "2023-08-28T20:02:43.909452400Z",
     "start_time": "2023-08-28T20:02:43.784450800Z"
    }
   },
   "id": "74158a4eaf8d8229"
  },
  {
   "cell_type": "code",
   "execution_count": 33,
   "outputs": [],
   "source": [
    "line_from_x = lambda x: m * x + c\n",
    "line_from_y = lambda y: (y - c)/m \n",
    "\n",
    "x = np.arange(0, 10)\n",
    "y = x\n",
    "y_l = line_from_x(x)\n",
    "x_l = line_from_y(y)"
   ],
   "metadata": {
    "collapsed": false,
    "ExecuteTime": {
     "end_time": "2023-08-28T20:02:43.909452400Z",
     "start_time": "2023-08-28T20:02:43.800449800Z"
    }
   },
   "id": "4f2bbde205dee998"
  },
  {
   "cell_type": "code",
   "execution_count": 34,
   "outputs": [],
   "source": [
    "X, Y = np.meshgrid(x, y)\n",
    "Y_left = line_from_x(X)\n",
    "Y_right = line_from_x(X+1)\n",
    "X_down = line_from_y(Y)\n",
    "X_up = line_from_y(Y+1)"
   ],
   "metadata": {
    "collapsed": false,
    "ExecuteTime": {
     "end_time": "2023-08-28T20:02:43.909452400Z",
     "start_time": "2023-08-28T20:02:43.816451Z"
    }
   },
   "id": "552e9aa103ea0b3d"
  },
  {
   "cell_type": "code",
   "execution_count": 35,
   "outputs": [
    {
     "data": {
      "text/plain": "<Figure size 640x480 with 1 Axes>",
      "image/png": "[encoded data removed]"
     },
     "metadata": {},
     "output_type": "display_data"
    }
   ],
   "source": [
    "plt.scatter(X, Y)\n",
    "plt.scatter(X, Y_left)\n",
    "plt.scatter(X_down, Y)\n",
    "plt.scatter(X+1, Y_right)\n",
    "plt.scatter(X_up, Y+1)\n",
    "plt.xlim([0, 10])\n",
    "plt.ylim([0, 10]);"
   ],
   "metadata": {
    "collapsed": false,
    "ExecuteTime": {
     "end_time": "2023-08-28T20:02:44.117945900Z",
     "start_time": "2023-08-28T20:02:43.830449700Z"
    }
   },
   "id": "a5ddb3d7d5ff107f"
  },
  {
   "cell_type": "code",
   "execution_count": 36,
   "outputs": [],
   "source": [
    "Il = np.dstack([np.where(np.logical_and(Y <= Y_left, Y_left < Y+1), X, 0), \n",
    "                np.where(np.logical_and(Y <= Y_left, Y_left < Y+1), Y_left, 0)])"
   ],
   "metadata": {
    "collapsed": false,
    "ExecuteTime": {
     "end_time": "2023-08-28T20:02:44.117945900Z",
     "start_time": "2023-08-28T20:02:44.100835500Z"
    }
   },
   "id": "707c01fa5e56ace4"
  },
  {
   "cell_type": "code",
   "execution_count": 37,
   "outputs": [],
   "source": [
    "Ir = np.dstack([np.where(np.logical_and(Y <= Y_right, Y_right < Y + 1), X+1, 0),\n",
    "                np.where(np.logical_and(Y <= Y_right, Y_right < Y + 1), Y_right, 0)])"
   ],
   "metadata": {
    "collapsed": false,
    "ExecuteTime": {
     "end_time": "2023-08-28T20:02:44.187943Z",
     "start_time": "2023-08-28T20:02:44.118968800Z"
    }
   },
   "id": "39bbb4e1330f30e3"
  },
  {
   "cell_type": "code",
   "execution_count": 38,
   "outputs": [],
   "source": [
    "Id = np.dstack([np.where(np.logical_and(X <= X_down, X_down < X + 1), X_down, 0),\n",
    "                np.where(np.logical_and(X <= X_down, X_down < X + 1), Y, 0)])"
   ],
   "metadata": {
    "collapsed": false,
    "ExecuteTime": {
     "end_time": "2023-08-28T20:02:44.211948200Z",
     "start_time": "2023-08-28T20:02:44.131959200Z"
    }
   },
   "id": "45a34e86ccd1753d"
  },
  {
   "cell_type": "code",
   "execution_count": 39,
   "outputs": [],
   "source": [
    "Iu = np.dstack([np.where(np.logical_and(X <= X_down, X_down < X + 1), X_up, 0),\n",
    "                np.where(np.logical_and(X <= X_down, X_down < X + 1), Y+1, 0)])"
   ],
   "metadata": {
    "collapsed": false,
    "ExecuteTime": {
     "end_time": "2023-08-28T20:02:44.211948200Z",
     "start_time": "2023-08-28T20:02:44.150946200Z"
    }
   },
   "id": "48e7109e2957b2a7"
  },
  {
   "cell_type": "code",
   "execution_count": 0,
   "outputs": [],
   "source": [
    "I = np.abs(np.abs(Il - Ir) - np.abs(Id - Iu))"
   ],
   "metadata": {
    "collapsed": false
   },
   "id": "e5162945fa9fbfc2"
  },
  {
   "cell_type": "code",
   "execution_count": 43,
   "outputs": [
    {
     "data": {
      "text/plain": "array([[[0.        , 0.        ],\n        [0.        , 0.        ],\n        [0.        , 0.        ],\n        [0.        , 0.        ],\n        [0.        , 0.        ],\n        [0.        , 0.        ],\n        [0.        , 0.        ],\n        [0.        , 0.        ],\n        [0.        , 0.        ],\n        [0.        , 0.        ]],\n\n       [[1.        , 0.6875    ],\n        [1.        , 1.8975    ],\n        [0.        , 0.        ],\n        [0.        , 0.        ],\n        [0.        , 0.        ],\n        [0.        , 0.        ],\n        [0.        , 0.        ],\n        [0.        , 0.        ],\n        [0.        , 0.        ],\n        [0.        , 0.        ]],\n\n       [[0.        , 0.        ],\n        [0.54545455, 1.585     ],\n        [2.        , 2.585     ],\n        [0.        , 0.        ],\n        [0.        , 0.        ],\n        [0.        , 0.        ],\n        [0.        , 0.        ],\n        [0.        , 0.        ],\n        [0.        , 0.        ],\n        [0.        , 0.        ]],\n\n       [[0.        , 0.        ],\n        [0.        , 0.        ],\n        [1.54545455, 2.2725    ],\n        [1.        , 0.6875    ],\n        [4.        , 3.96      ],\n        [0.        , 0.        ],\n        [0.        , 0.        ],\n        [0.        , 0.        ],\n        [0.        , 0.        ],\n        [0.        , 0.        ]],\n\n       [[0.        , 0.        ],\n        [0.        , 0.        ],\n        [0.        , 0.        ],\n        [0.        , 0.        ],\n        [3.54545455, 3.6475    ],\n        [5.        , 4.6475    ],\n        [0.        , 0.        ],\n        [0.        , 0.        ],\n        [0.        , 0.        ],\n        [0.        , 0.        ]],\n\n       [[0.        , 0.        ],\n        [0.        , 0.        ],\n        [0.        , 0.        ],\n        [0.        , 0.        ],\n        [0.        , 0.        ],\n        [4.54545455, 4.335     ],\n        [6.        , 5.335     ],\n        [0.        , 0.        ],\n        [0.        , 0.        ],\n        [0.        , 0.        ]],\n\n       [[0.        , 0.        ],\n        [0.        , 0.        ],\n        [0.        , 0.        ],\n        [0.        , 0.        ],\n        [0.        , 0.        ],\n        [0.        , 0.        ],\n        [5.54545455, 5.0225    ],\n        [1.        , 0.6875    ],\n        [8.        , 6.71      ],\n        [0.        , 0.        ]],\n\n       [[0.        , 0.        ],\n        [0.        , 0.        ],\n        [0.        , 0.        ],\n        [0.        , 0.        ],\n        [0.        , 0.        ],\n        [0.        , 0.        ],\n        [0.        , 0.        ],\n        [0.        , 0.        ],\n        [7.54545455, 6.3975    ],\n        [9.        , 7.3975    ]],\n\n       [[0.        , 0.        ],\n        [0.        , 0.        ],\n        [0.        , 0.        ],\n        [0.        , 0.        ],\n        [0.        , 0.        ],\n        [0.        , 0.        ],\n        [0.        , 0.        ],\n        [0.        , 0.        ],\n        [0.        , 0.        ],\n        [8.54545455, 7.085     ]],\n\n       [[0.        , 0.        ],\n        [0.        , 0.        ],\n        [0.        , 0.        ],\n        [0.        , 0.        ],\n        [0.        , 0.        ],\n        [0.        , 0.        ],\n        [0.        , 0.        ],\n        [0.        , 0.        ],\n        [0.        , 0.        ],\n        [0.        , 0.        ]]])"
     },
     "execution_count": 43,
     "metadata": {},
     "output_type": "execute_result"
    }
   ],
   "source": [
    "I"
   ],
   "metadata": {
    "collapsed": false,
    "ExecuteTime": {
     "end_time": "2023-08-28T20:11:23.583331200Z",
     "start_time": "2023-08-28T20:11:23.488713400Z"
    }
   },
   "id": "2a0d10cde14d9bdc"
  },
  {
   "cell_type": "code",
   "execution_count": 40,
   "outputs": [],
   "source": [
    "magnitude = lambda xy: np.sqrt(xy[0]**2 + xy[1]**2)\n",
    "\n",
    "A = np.apply_along_axis(magnitude, 2, I)"
   ],
   "metadata": {
    "collapsed": false,
    "ExecuteTime": {
     "start_time": "2023-08-28T20:02:44.165945Z"
    }
   },
   "id": "84f3aa1681180cbd"
  },
  {
   "cell_type": "code",
   "execution_count": 41,
   "outputs": [
    {
     "data": {
      "text/plain": "array([[ 0.        ,  0.        ,  0.        ,  0.        ,  0.        ,\n         0.        ,  0.        ,  0.        ,  0.        ,  0.        ],\n       [ 1.21353049,  2.14487908,  0.        ,  0.        ,  0.        ,\n         0.        ,  0.        ,  0.        ,  0.        ,  0.        ],\n       [ 0.        ,  1.6762296 ,  3.26836733,  0.        ,  0.        ,\n         0.        ,  0.        ,  0.        ,  0.        ,  0.        ],\n       [ 0.        ,  0.        ,  2.74821506,  1.21353049,  5.62864104,\n         0.        ,  0.        ,  0.        ,  0.        ,  0.        ],\n       [ 0.        ,  0.        ,  0.        ,  0.        ,  5.08669875,\n         6.82636479,  0.        ,  0.        ,  0.        ,  0.        ],\n       [ 0.        ,  0.        ,  0.        ,  0.        ,  0.        ,\n         6.28119272,  8.02883709,  0.        ,  0.        ,  0.        ],\n       [ 0.        ,  0.        ,  0.        ,  0.        ,  0.        ,\n         0.        ,  7.48181611,  1.21353049, 10.44146063,  0.        ],\n       [ 0.        ,  0.        ,  0.        ,  0.        ,  0.        ,\n         0.        ,  0.        ,  0.        ,  9.8925169 , 11.65002173],\n       [ 0.        ,  0.        ,  0.        ,  0.        ,  0.        ,\n         0.        ,  0.        ,  0.        ,  0.        , 11.10054136],\n       [ 0.        ,  0.        ,  0.        ,  0.        ,  0.        ,\n         0.        ,  0.        ,  0.        ,  0.        ,  0.        ]])"
     },
     "execution_count": 41,
     "metadata": {},
     "output_type": "execute_result"
    }
   ],
   "source": [
    "A"
   ],
   "metadata": {
    "collapsed": false,
    "ExecuteTime": {
     "end_time": "2023-08-28T20:02:44.216969500Z",
     "start_time": "2023-08-28T20:02:44.180944300Z"
    }
   },
   "id": "aa8ae6f19ba6e19c"
  },
  {
   "cell_type": "code",
   "execution_count": 42,
   "outputs": [
    {
     "data": {
      "text/plain": "<Figure size 640x480 with 1 Axes>",
      "image/png": "[encoded data removed]"
     },
     "metadata": {},
     "output_type": "display_data"
    }
   ],
   "source": [
    "plt.imshow(A, origin='lower')\n",
    "plt.xlim([0, 9])\n",
    "plt.ylim([0, 9])\n",
    "plt.xticks(np.arange(0, 10))\n",
    "plt.yticks(np.arange(0, 10))\n",
    "plt.grid(visible=True)"
   ],
   "metadata": {
    "collapsed": false,
    "ExecuteTime": {
     "end_time": "2023-08-28T20:02:44.547954400Z",
     "start_time": "2023-08-28T20:02:44.243959100Z"
    }
   },
   "id": "249cd2bf337597f0"
  }
 ],
 "metadata": {
  "kernelspec": {
   "display_name": "Python 3",
   "language": "python",
   "name": "python3"
  },
  "language_info": {
   "codemirror_mode": {
    "name": "ipython",
    "version": 2
   },
   "file_extension": ".py",
   "mimetype": "text/x-python",
   "name": "python",
   "nbconvert_exporter": "python",
   "pygments_lexer": "ipython2",
   "version": "2.7.6"
  }
 },
 "nbformat": 4,
 "nbformat_minor": 5
}
