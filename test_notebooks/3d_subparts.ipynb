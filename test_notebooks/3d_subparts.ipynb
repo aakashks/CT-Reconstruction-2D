{
 "cells": [
  {
   "cell_type": "code",
   "execution_count": 1,
   "id": "initial_id",
   "metadata": {
    "collapsed": true,
    "ExecuteTime": {
     "end_time": "2023-10-02T12:06:09.819647500Z",
     "start_time": "2023-10-02T12:06:09.713934Z"
    }
   },
   "outputs": [],
   "source": [
    "import numpy as np\n",
    "import matplotlib.pyplot as plt\n",
    "import seaborn as sns\n",
    "import plotly.express as px"
   ]
  },
  {
   "cell_type": "code",
   "execution_count": 2,
   "outputs": [],
   "source": [
    "# self.n = no_of_detectors\n",
    "# self.x = source_to_object\n",
    "# self.y = source_to_detector\n",
    "# self.o = size_of_object\n",
    "# self.r = no_of_rotations\n",
    "\n",
    "dets = 10\n",
    "sod = 4\n",
    "sdd = 8\n",
    "obj_size = 3\n",
    "rots = 10\n",
    "\n",
    "# Assumption: no of rotations are for 1 revolution\n",
    "phi = 2 * np.pi / rots\n",
    "\n",
    "# square n x n x n resolution\n",
    "resolution = 10\n",
    "d = 10"
   ],
   "metadata": {
    "collapsed": false,
    "ExecuteTime": {
     "end_time": "2023-10-02T12:06:09.835654900Z",
     "start_time": "2023-10-02T12:06:09.823653800Z"
    }
   },
   "id": "1a13bda30cb4ada8"
  },
  {
   "cell_type": "code",
   "execution_count": 3,
   "outputs": [
    {
     "data": {
      "text/plain": "array([-0.15, -0.05,  0.05,  0.15])"
     },
     "execution_count": 3,
     "metadata": {},
     "output_type": "execute_result"
    }
   ],
   "source": [
    "n = 8\n",
    "k = 0.1\n",
    "x = np.arange(-n//2, n//2, 1) * k\n",
    "\n",
    "n = 3\n",
    "y = np.arange(-n, n+1, 2) * k/2\n",
    "y"
   ],
   "metadata": {
    "collapsed": false,
    "ExecuteTime": {
     "end_time": "2023-10-02T12:06:09.867167400Z",
     "start_time": "2023-10-02T12:06:09.839233800Z"
    }
   },
   "id": "2e60455a3269d67d"
  },
  {
   "cell_type": "code",
   "execution_count": 4,
   "outputs": [],
   "source": [
    "X, Y, Z = np.meshgrid(x, x, x)"
   ],
   "metadata": {
    "collapsed": false,
    "ExecuteTime": {
     "end_time": "2023-10-02T12:06:09.868167300Z",
     "start_time": "2023-10-02T12:06:09.855177200Z"
    }
   },
   "id": "13cc11b363e12b8b"
  },
  {
   "cell_type": "markdown",
   "source": [
    "equation of line is\n",
    "\n",
    "$$\n",
    "\\frac{x - \\alpha}{\\lambda \\sin\\phi - \\alpha} = \\frac{y - \\beta}{-\\beta} = \\frac{z}{\\lambda\\cos\\phi}\n",
    "$$"
   ],
   "metadata": {
    "collapsed": false
   },
   "id": "ea0bbf3538f22d00"
  },
  {
   "cell_type": "code",
   "execution_count": 5,
   "outputs": [],
   "source": [
    "phi = 0.5\n",
    "alpha, beta = 1.5, 6.5"
   ],
   "metadata": {
    "collapsed": false,
    "ExecuteTime": {
     "end_time": "2023-10-02T12:06:09.893164800Z",
     "start_time": "2023-10-02T12:06:09.874174200Z"
    }
   },
   "id": "a4d14868d3360834"
  },
  {
   "cell_type": "code",
   "execution_count": 6,
   "outputs": [],
   "source": [
    "def xy_from_z(z):\n",
    "    return alpha + z * (sod * np.sin(phi) - alpha) / (sod * np.cos(phi)), beta - z * beta/(sod * np.cos(phi))\n",
    "\n",
    "def yz_from_x(x):\n",
    "    return beta - beta*(x - alpha)/(sod*np.sin(phi) - alpha), -(x-alpha) * sod * np.cos(phi) / (alpha - sod*np.sin(phi))\n",
    "\n",
    "def zx_from_y(y):\n",
    "    return -sod * np.cos(phi) *(y - beta)/beta, alpha - (sod * np.sin(phi) - alpha) * (y - beta) / beta"
   ],
   "metadata": {
    "collapsed": false,
    "ExecuteTime": {
     "end_time": "2023-10-02T12:06:09.953728700Z",
     "start_time": "2023-10-02T12:06:09.889168100Z"
    }
   },
   "id": "dd05cb83d4087b03"
  },
  {
   "cell_type": "code",
   "execution_count": 7,
   "outputs": [],
   "source": [
    "X1, Y1 = xy_from_z(Z)\n",
    "X2, Y2 = xy_from_z(Z + 1)\n",
    "\n",
    "Y3, Z3 = yz_from_x(X)\n",
    "Y4, Z4 = yz_from_x(X + 1)\n",
    "\n",
    "Z5, X5 = zx_from_y(Y)\n",
    "Z6, X6 = zx_from_y(Y + 1)"
   ],
   "metadata": {
    "collapsed": false,
    "ExecuteTime": {
     "end_time": "2023-10-02T12:06:09.953728700Z",
     "start_time": "2023-10-02T12:06:09.906172Z"
    }
   },
   "id": "d55a1646cb575295"
  },
  {
   "cell_type": "code",
   "execution_count": 8,
   "outputs": [
    {
     "data": {
      "text/plain": "array([[-1, -1],\n       [ 0, -1],\n       [ 1, -1],\n       [-1,  0],\n       [ 0,  0],\n       [ 1,  0],\n       [-1,  1],\n       [ 0,  1],\n       [ 1,  1]])"
     },
     "execution_count": 8,
     "metadata": {},
     "output_type": "execute_result"
    }
   ],
   "source": [
    "n= 3\n",
    "x = np.arange((-n+1)//2, (n+1)//2)\n",
    "\n",
    "detector_coords = np.dstack(np.meshgrid(x, x))\n",
    "detector_coords.reshape(-1, 2)"
   ],
   "metadata": {
    "collapsed": false,
    "ExecuteTime": {
     "end_time": "2023-10-02T12:06:09.954762600Z",
     "start_time": "2023-10-02T12:06:09.920166800Z"
    }
   },
   "id": "a3e3a5221294a80a"
  },
  {
   "cell_type": "code",
   "execution_count": 9,
   "outputs": [],
   "source": [
    "from core_3d import *"
   ],
   "metadata": {
    "collapsed": false,
    "ExecuteTime": {
     "end_time": "2023-10-02T12:06:10.001729300Z",
     "start_time": "2023-10-02T12:06:09.934180900Z"
    }
   },
   "id": "29835f728aaaedc6"
  },
  {
   "cell_type": "code",
   "execution_count": 10,
   "outputs": [
    {
     "name": "stderr",
     "output_type": "stream",
     "text": [
      "C:\\Users\\msing\\Documents\\acad_repos\\applied-linear-algebra\\core_3d.py:62: RuntimeWarning: divide by zero encountered in divide\n",
      "  return beta - beta * (x - alpha) / (sod * np.sin(phi) - alpha), -(x - alpha) * sod * np.cos(phi) / (\n",
      "C:\\Users\\msing\\Documents\\acad_repos\\applied-linear-algebra\\core_3d.py:66: RuntimeWarning: divide by zero encountered in divide\n",
      "  return -sod * np.cos(phi) * (y - beta) / beta, alpha - (sod * np.sin(phi) - alpha) * (y - beta) / beta\n",
      "C:\\Users\\msing\\Documents\\acad_repos\\applied-linear-algebra\\core_3d.py:62: RuntimeWarning: invalid value encountered in divide\n",
      "  return beta - beta * (x - alpha) / (sod * np.sin(phi) - alpha), -(x - alpha) * sod * np.cos(phi) / (\n",
      "C:\\Users\\msing\\Documents\\acad_repos\\applied-linear-algebra\\core_3d.py:66: RuntimeWarning: invalid value encountered in divide\n",
      "  return -sod * np.cos(phi) * (y - beta) / beta, alpha - (sod * np.sin(phi) - alpha) * (y - beta) / beta\n"
     ]
    }
   ],
   "source": [
    "A = CreateInterceptMatrix(\n",
    "    no_of_detectors=5,\n",
    "    source_to_object=10,\n",
    "    source_to_detector=15,\n",
    "    size_of_object=3,\n",
    "    no_of_rotations=5,\n",
    "    detector_side_length=5,\n",
    "    resolution=5\n",
    ").create_intercept_matrix_from_lines()"
   ],
   "metadata": {
    "collapsed": false,
    "ExecuteTime": {
     "end_time": "2023-10-02T12:06:10.134075900Z",
     "start_time": "2023-10-02T12:06:09.981728Z"
    }
   },
   "id": "527ae79ac2dc0794"
  }
 ],
 "metadata": {
  "kernelspec": {
   "display_name": "Python 3",
   "language": "python",
   "name": "python3"
  },
  "language_info": {
   "codemirror_mode": {
    "name": "ipython",
    "version": 2
   },
   "file_extension": ".py",
   "mimetype": "text/x-python",
   "name": "python",
   "nbconvert_exporter": "python",
   "pygments_lexer": "ipython2",
   "version": "2.7.6"
  }
 },
 "nbformat": 4,
 "nbformat_minor": 5
}
