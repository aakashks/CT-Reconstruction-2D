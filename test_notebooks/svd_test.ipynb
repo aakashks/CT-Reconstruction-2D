{
 "cells": [
  {
   "cell_type": "code",
   "execution_count": 3,
   "id": "initial_id",
   "metadata": {
    "collapsed": true,
    "ExecuteTime": {
     "end_time": "2023-09-26T11:31:00.355642900Z",
     "start_time": "2023-09-26T11:30:57.414323700Z"
    }
   },
   "outputs": [],
   "source": [
    "import numpy as np\n",
    "\n",
    "from utils import *\n",
    "from core import *\n",
    "import imageio.v3 as iio\n",
    "from PIL import Image\n",
    "\n",
    "im = iio.imread('../assets/800px-SheppLogan.png')"
   ]
  },
  {
   "cell_type": "code",
   "execution_count": 4,
   "outputs": [
    {
     "data": {
      "text/plain": "<Figure size 640x480 with 2 Axes>",
      "image/png": "[encoded data removed]"
     },
     "metadata": {},
     "output_type": "display_data"
    }
   ],
   "source": [
    "# loading image\n",
    "new_res = 32\n",
    "\n",
    "img = Image.fromarray(im).resize((new_res, new_res))\n",
    "img = np.array(img.convert('L'))\n",
    "plot_image(img, cmap='bone')"
   ],
   "metadata": {
    "collapsed": false,
    "ExecuteTime": {
     "end_time": "2023-09-26T11:31:00.596798700Z",
     "start_time": "2023-09-26T11:31:00.363640600Z"
    }
   },
   "id": "df076df6203a81ee"
  },
  {
   "cell_type": "code",
   "execution_count": 5,
   "outputs": [],
   "source": [
    "A = CreateInterceptMatrix(\n",
    "  no_of_detectors=new_res,\n",
    "  source_to_object=20,\n",
    "  source_to_detector=40,\n",
    "  size_of_object=15,\n",
    "  no_of_rotations=new_res,\n",
    "  angle_bw_detectors=0.05,\n",
    "  resolution=new_res\n",
    ").create_intercept_matrix_from_lines()"
   ],
   "metadata": {
    "collapsed": false,
    "ExecuteTime": {
     "end_time": "2023-09-26T11:31:04.171765400Z",
     "start_time": "2023-09-26T11:31:00.586638400Z"
    }
   },
   "id": "68934edaaabfbe60"
  },
  {
   "cell_type": "code",
   "execution_count": 6,
   "outputs": [],
   "source": [
    "import torch\n",
    "\n",
    "torch.set_default_device('cuda')\n",
    "\n",
    "A = torch.from_numpy(A)"
   ],
   "metadata": {
    "collapsed": false,
    "ExecuteTime": {
     "end_time": "2023-09-26T11:31:04.194445400Z",
     "start_time": "2023-09-26T11:31:04.170750300Z"
    }
   },
   "id": "62d632b12f61de8c"
  },
  {
   "cell_type": "code",
   "execution_count": 30,
   "outputs": [],
   "source": [
    "def power_iteration(A, num_iterations):\n",
    "    \"\"\"\n",
    "    power iterations to find out 1 eigenvector of given matrix\n",
    "    \"\"\"\n",
    "    b = torch.rand(A.shape[1], dtype=torch.double)\n",
    "\n",
    "    for _ in range(num_iterations):\n",
    "        Ab = torch.mv(A, b)\n",
    "\n",
    "        norm = torch.linalg.vector_norm(Ab)\n",
    "        b = torch.div(Ab, norm)\n",
    "\n",
    "    return b\n",
    "\n",
    "def svd(A, num_iterations=1000, tol=1e-8):\n",
    "    \"\"\"\n",
    "    return SVD of matrix A, S will be of (r,r) dimensions where r is rank of matrix A\n",
    "    equivalent to numpy's np.linalg.svd(A, full_natrices=False) with tolerance for singular values\n",
    "    \"\"\"\n",
    "    ATA = torch.mm(A.T, A)\n",
    "\n",
    "    V = []\n",
    "    S = []\n",
    "    i = 0\n",
    "    # finding right singular vectors\n",
    "    for _ in tqdm(range(min(ATA.shape)), desc='Performing decomposition'):\n",
    "        eigenvector = power_iteration(ATA, num_iterations)\n",
    "        eigenvalue = torch.linalg.multi_dot([eigenvector, ATA, eigenvector])\n",
    "        if i > 4:\n",
    "            break\n",
    "        if eigenvalue < tol:\n",
    "            i += 1\n",
    "            continue\n",
    "\n",
    "\n",
    "        eigenvector /= torch.norm(eigenvector)\n",
    "\n",
    "        V.append(eigenvector)\n",
    "        S.append(eigenvalue)\n",
    "\n",
    "        # reduce lambda * vT v from the eigendecomposition of AtA\n",
    "        ATA = ATA - eigenvalue * torch.outer(eigenvector, eigenvector)\n",
    "\n",
    "    if not S:\n",
    "        raise ValueError('Matrix has rank 0')\n",
    "\n",
    "    S = torch.sqrt(torch.tensor(S, dtype=torch.double))\n",
    "\n",
    "    # find the left singular vectors\n",
    "    V = torch.column_stack(V)\n",
    "    U = torch.linalg.multi_dot([A, V, 1/S])\n",
    "    return U, S, V.T"
   ],
   "metadata": {
    "collapsed": false,
    "ExecuteTime": {
     "end_time": "2023-09-26T11:40:15.169893500Z",
     "start_time": "2023-09-26T11:40:14.950093100Z"
    }
   },
   "id": "4e315cff382b97c1"
  },
  {
   "cell_type": "code",
   "execution_count": 31,
   "outputs": [
    {
     "name": "stderr",
     "output_type": "stream",
     "text": [
      "Performing decomposition:  58%|█████▊    | 597/1024 [00:26<00:18, 22.72it/s]\n"
     ]
    }
   ],
   "source": [
    "U, S, Vt = svd(A, num_iterations=200)"
   ],
   "metadata": {
    "collapsed": false,
    "ExecuteTime": {
     "end_time": "2023-09-26T11:40:42.465844400Z",
     "start_time": "2023-09-26T11:40:16.097688600Z"
    }
   },
   "id": "99035fa84a3dda78"
  },
  {
   "cell_type": "code",
   "execution_count": 32,
   "outputs": [],
   "source": [
    "S_lib = torch.linalg.svdvals(A)"
   ],
   "metadata": {
    "collapsed": false,
    "ExecuteTime": {
     "end_time": "2023-09-26T11:40:42.686147Z",
     "start_time": "2023-09-26T11:40:42.424927500Z"
    }
   },
   "id": "6463784fb6201528"
  },
  {
   "cell_type": "code",
   "execution_count": 33,
   "outputs": [
    {
     "data": {
      "text/plain": "600"
     },
     "execution_count": 33,
     "metadata": {},
     "output_type": "execute_result"
    }
   ],
   "source": [
    "r = torch.linalg.matrix_rank(A, tol=1e-8).item()\n",
    "r"
   ],
   "metadata": {
    "collapsed": false,
    "ExecuteTime": {
     "end_time": "2023-09-26T11:40:42.938910900Z",
     "start_time": "2023-09-26T11:40:42.686147Z"
    }
   },
   "id": "17cad29d85b560b0"
  },
  {
   "cell_type": "code",
   "execution_count": 34,
   "outputs": [
    {
     "data": {
      "text/plain": "592"
     },
     "execution_count": 34,
     "metadata": {},
     "output_type": "execute_result"
    }
   ],
   "source": [
    "r_ = S.shape[0]\n",
    "r_"
   ],
   "metadata": {
    "collapsed": false,
    "ExecuteTime": {
     "end_time": "2023-09-26T11:40:42.983508800Z",
     "start_time": "2023-09-26T11:40:42.942579200Z"
    }
   },
   "id": "a558c92ff862d109"
  },
  {
   "cell_type": "code",
   "execution_count": 35,
   "outputs": [
    {
     "data": {
      "text/plain": "(tensor(0.0216, dtype=torch.float64), tensor(6.4240e-06, dtype=torch.float64))"
     },
     "execution_count": 35,
     "metadata": {},
     "output_type": "execute_result"
    }
   ],
   "source": [
    "# maximum error\n",
    "error = torch.sub(S.cpu(), S_lib[:r_])\n",
    "error.max(), error.mean()"
   ],
   "metadata": {
    "collapsed": false,
    "ExecuteTime": {
     "end_time": "2023-09-26T11:40:42.983508800Z",
     "start_time": "2023-09-26T11:40:42.955751800Z"
    }
   },
   "id": "4749198da93e2601"
  },
  {
   "cell_type": "code",
   "execution_count": 36,
   "outputs": [
    {
     "data": {
      "text/plain": "tensor(0.0188, dtype=torch.float64)"
     },
     "execution_count": 36,
     "metadata": {},
     "output_type": "execute_result"
    }
   ],
   "source": [
    "S_lib[r_]"
   ],
   "metadata": {
    "collapsed": false,
    "ExecuteTime": {
     "end_time": "2023-09-26T11:40:42.983508800Z",
     "start_time": "2023-09-26T11:40:42.971497900Z"
    }
   },
   "id": "20af9e14116c5f6e"
  },
  {
   "cell_type": "code",
   "execution_count": 13,
   "outputs": [
    {
     "name": "stderr",
     "output_type": "stream",
     "text": [
      "C:\\Users\\msing\\AppData\\Local\\Temp\\ipykernel_15700\\1925273464.py:2: RuntimeWarning: invalid value encountered in log\n",
      "  sns.kdeplot(np.log(np.array(error)))\n"
     ]
    },
    {
     "data": {
      "text/plain": "<Axes: ylabel='Density'>"
     },
     "execution_count": 13,
     "metadata": {},
     "output_type": "execute_result"
    },
    {
     "data": {
      "text/plain": "<Figure size 640x480 with 1 Axes>",
      "image/png": "[encoded data removed]"
     },
     "metadata": {},
     "output_type": "display_data"
    }
   ],
   "source": [
    "import seaborn as sns\n",
    "sns.kdeplot(np.log(np.array(error)))"
   ],
   "metadata": {
    "collapsed": false,
    "ExecuteTime": {
     "end_time": "2023-09-26T11:31:49.182968400Z",
     "start_time": "2023-09-26T11:31:48.853151700Z"
    }
   },
   "id": "59749572e1c99a8e"
  }
 ],
 "metadata": {
  "kernelspec": {
   "display_name": "Python 3",
   "language": "python",
   "name": "python3"
  },
  "language_info": {
   "codemirror_mode": {
    "name": "ipython",
    "version": 2
   },
   "file_extension": ".py",
   "mimetype": "text/x-python",
   "name": "python",
   "nbconvert_exporter": "python",
   "pygments_lexer": "ipython2",
   "version": "2.7.6"
  }
 },
 "nbformat": 4,
 "nbformat_minor": 5
}
