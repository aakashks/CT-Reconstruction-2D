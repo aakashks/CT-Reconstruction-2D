{
 "cells": [
  {
   "cell_type": "code",
   "execution_count": 13,
   "id": "67fe62bae3ec77b3",
   "metadata": {
    "collapsed": true,
    "ExecuteTime": {
     "end_time": "2023-09-04T08:54:19.009559Z",
     "start_time": "2023-09-04T08:54:18.894731700Z"
    }
   },
   "outputs": [],
   "source": [
    "import matplotlib.pyplot as plt\n",
    "import numpy as np\n",
    "import plotly.express as px\n",
    "from core import *\n",
    "import pandas as pd"
   ]
  },
  {
   "cell_type": "code",
   "execution_count": 14,
   "outputs": [],
   "source": [
    "res = 9"
   ],
   "metadata": {
    "collapsed": false,
    "ExecuteTime": {
     "end_time": "2023-09-04T08:54:19.009559Z",
     "start_time": "2023-09-04T08:54:18.910791600Z"
    }
   },
   "id": "4f6f16561cc1cb7c"
  },
  {
   "cell_type": "code",
   "execution_count": 15,
   "outputs": [],
   "source": [
    "params = {\n",
    "  \"no_of_detectors\": 5,\n",
    "  \"source_to_object\": 12.5,\n",
    "  \"source_to_detector\": 35,\n",
    "  \"size_of_object\": 12,\n",
    "  \"no_of_rotations\": 18,\n",
    "  \"angle_bw_detectors\": 0.16188,\n",
    "  \"resolution\": res\n",
    "}"
   ],
   "metadata": {
    "collapsed": false,
    "ExecuteTime": {
     "end_time": "2023-09-04T08:54:19.009559Z",
     "start_time": "2023-09-04T08:54:18.926426200Z"
    }
   },
   "id": "e11755e28c5591b8"
  },
  {
   "cell_type": "code",
   "execution_count": 16,
   "outputs": [],
   "source": [
    "r = params['size_of_object'] / 2\n",
    "x = params['source_to_object']\n",
    "n = params['no_of_detectors']"
   ],
   "metadata": {
    "collapsed": false,
    "ExecuteTime": {
     "end_time": "2023-09-04T08:54:19.009559Z",
     "start_time": "2023-09-04T08:54:18.942053200Z"
    }
   },
   "id": "695df46d59f3a8bd"
  },
  {
   "cell_type": "code",
   "execution_count": 17,
   "outputs": [],
   "source": [
    "theta_fan = 2 * np.arcsin(r/x)\n",
    "params['angle_bw_detectors'] = theta_fan/ (n-1)"
   ],
   "metadata": {
    "collapsed": false,
    "ExecuteTime": {
     "end_time": "2023-09-04T08:54:19.009559Z",
     "start_time": "2023-09-04T08:54:18.957676500Z"
    }
   },
   "id": "89603fe2f0333e01"
  },
  {
   "cell_type": "code",
   "execution_count": 18,
   "outputs": [
    {
     "data": {
      "text/plain": "{'no_of_detectors': 5,\n 'source_to_object': 12.5,\n 'source_to_detector': 35,\n 'size_of_object': 12,\n 'no_of_rotations': 18,\n 'angle_bw_detectors': 0.25032735620229407,\n 'resolution': 9}"
     },
     "execution_count": 18,
     "metadata": {},
     "output_type": "execute_result"
    }
   ],
   "source": [
    "params"
   ],
   "metadata": {
    "collapsed": false,
    "ExecuteTime": {
     "end_time": "2023-09-04T08:54:19.009559Z",
     "start_time": "2023-09-04T08:54:18.973301100Z"
    }
   },
   "id": "7e360efdf74264c1"
  },
  {
   "cell_type": "code",
   "execution_count": 19,
   "outputs": [
    {
     "data": {
      "text/plain": "(90,)"
     },
     "execution_count": 19,
     "metadata": {},
     "output_type": "execute_result"
    }
   ],
   "source": [
    "raw_data = pd.read_csv('./Proj_gamma_photo_peak.csv', header=None)\n",
    "detector_readings = raw_data.to_numpy().T.flatten()\n",
    "d = detector_readings\n",
    "\n",
    "d.shape"
   ],
   "metadata": {
    "collapsed": false,
    "ExecuteTime": {
     "end_time": "2023-09-04T08:54:19.009559Z",
     "start_time": "2023-09-04T08:54:18.988926200Z"
    }
   },
   "id": "e6fb1eb2671d0d9"
  },
  {
   "cell_type": "code",
   "execution_count": 20,
   "outputs": [
    {
     "data": {
      "text/plain": "(90, 81)"
     },
     "execution_count": 20,
     "metadata": {},
     "output_type": "execute_result"
    }
   ],
   "source": [
    "A = CreateInterceptMatrix(**params).create_intercept_matrix_from_lines()\n",
    "A.shape"
   ],
   "metadata": {
    "collapsed": false,
    "ExecuteTime": {
     "end_time": "2023-09-04T08:54:19.192862100Z",
     "start_time": "2023-09-04T08:54:19.004549900Z"
    }
   },
   "id": "f0514cd7ad9eec34"
  },
  {
   "cell_type": "code",
   "execution_count": 21,
   "outputs": [],
   "source": [
    "intercepts = A.reshape(90, res, res)"
   ],
   "metadata": {
    "collapsed": false,
    "ExecuteTime": {
     "end_time": "2023-09-04T08:54:19.192862100Z",
     "start_time": "2023-09-04T08:54:19.067453700Z"
    }
   },
   "id": "ba40a893336c94e4"
  },
  {
   "cell_type": "code",
   "execution_count": 22,
   "outputs": [],
   "source": [
    "lambdas = SolveEquation(A, d).solve(useLibrary='pinv')\n",
    "img = lambdas.reshape(res, res)"
   ],
   "metadata": {
    "collapsed": false,
    "ExecuteTime": {
     "end_time": "2023-09-04T08:54:19.192862100Z",
     "start_time": "2023-09-04T08:54:19.083084200Z"
    }
   },
   "id": "initial_id"
  },
  {
   "cell_type": "code",
   "execution_count": 23,
   "outputs": [
    {
     "data": {
      "text/plain": "<Figure size 640x480 with 1 Axes>",
      "image/png": "[encoded data removed]"
     },
     "metadata": {},
     "output_type": "display_data"
    }
   ],
   "source": [
    "plt.imshow(img, origin='lower');"
   ],
   "metadata": {
    "collapsed": false,
    "ExecuteTime": {
     "end_time": "2023-09-04T08:54:19.357430200Z",
     "start_time": "2023-09-04T08:54:19.098703600Z"
    }
   },
   "id": "4020d6f98e45ccc9"
  }
 ],
 "metadata": {
  "kernelspec": {
   "display_name": "Python 3",
   "language": "python",
   "name": "python3"
  },
  "language_info": {
   "codemirror_mode": {
    "name": "ipython",
    "version": 2
   },
   "file_extension": ".py",
   "mimetype": "text/x-python",
   "name": "python",
   "nbconvert_exporter": "python",
   "pygments_lexer": "ipython2",
   "version": "2.7.6"
  }
 },
 "nbformat": 4,
 "nbformat_minor": 5
}
