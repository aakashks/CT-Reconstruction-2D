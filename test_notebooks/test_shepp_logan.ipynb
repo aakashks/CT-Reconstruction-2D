{
 "cells": [
  {
   "cell_type": "code",
   "execution_count": 43,
   "id": "initial_id",
   "metadata": {
    "collapsed": true,
    "ExecuteTime": {
     "end_time": "2023-10-02T05:14:11.006004700Z",
     "start_time": "2023-10-02T05:14:10.962002300Z"
    }
   },
   "outputs": [],
   "source": [
    "import numpy as np\n",
    "\n",
    "from utils import *\n",
    "from core import *\n",
    "import imageio.v3 as iio\n",
    "from PIL import Image\n",
    "\n",
    "im = iio.imread('../assets/800px-SheppLogan.png')"
   ]
  },
  {
   "cell_type": "code",
   "execution_count": 44,
   "outputs": [
    {
     "data": {
      "text/plain": "<Figure size 640x480 with 2 Axes>",
      "image/png": "[encoded data removed]"
     },
     "metadata": {},
     "output_type": "display_data"
    }
   ],
   "source": [
    "# loading image\n",
    "new_res = 40\n",
    "\n",
    "img = Image.fromarray(im).resize((new_res, new_res))\n",
    "img = np.array(img.convert('L'))\n",
    "plot_image(img, cmap='bone')"
   ],
   "metadata": {
    "collapsed": false,
    "ExecuteTime": {
     "end_time": "2023-10-02T05:14:11.146065100Z",
     "start_time": "2023-10-02T05:14:10.975006900Z"
    }
   },
   "id": "df076df6203a81ee"
  },
  {
   "cell_type": "code",
   "execution_count": 45,
   "outputs": [],
   "source": [
    "A = CreateInterceptMatrix(\n",
    "  no_of_detectors=2*new_res,\n",
    "  source_to_object=20,\n",
    "  source_to_detector=42,\n",
    "  size_of_object=12,\n",
    "  no_of_rotations=new_res,\n",
    "  angle_bw_detectors=0.01652/4,\n",
    "  resolution=new_res\n",
    ").create_intercept_matrix_from_lines()"
   ],
   "metadata": {
    "collapsed": false,
    "ExecuteTime": {
     "end_time": "2023-10-02T05:14:24.474621800Z",
     "start_time": "2023-10-02T05:14:11.130056800Z"
    }
   },
   "id": "68934edaaabfbe60"
  },
  {
   "cell_type": "markdown",
   "source": [
    "## Forward Problem"
   ],
   "metadata": {
    "collapsed": false
   },
   "id": "f7f165c6152b9876"
  },
  {
   "cell_type": "markdown",
   "source": [
    "solving the forward problem of obtaining detector readings using image matrix (shepp Logan)"
   ],
   "metadata": {
    "collapsed": false
   },
   "id": "5a34f270823ff435"
  },
  {
   "cell_type": "code",
   "execution_count": 46,
   "outputs": [
    {
     "data": {
      "text/plain": "(3200,)"
     },
     "execution_count": 46,
     "metadata": {},
     "output_type": "execute_result"
    }
   ],
   "source": [
    "b = A @ img.flatten()\n",
    "b.shape"
   ],
   "metadata": {
    "collapsed": false,
    "ExecuteTime": {
     "end_time": "2023-10-02T05:14:24.494622600Z",
     "start_time": "2023-10-02T05:14:24.477626500Z"
    }
   },
   "id": "833d7db1ccdf2555"
  },
  {
   "cell_type": "markdown",
   "source": [
    "## Backward Problem"
   ],
   "metadata": {
    "collapsed": false
   },
   "id": "171454f0df8250c3"
  },
  {
   "cell_type": "code",
   "execution_count": 47,
   "outputs": [],
   "source": [
    "# GPU based pinv calc\n",
    "\n",
    "import torch\n",
    "torch.set_default_device('cuda')\n",
    "A = torch.from_numpy(A).cuda()"
   ],
   "metadata": {
    "collapsed": false,
    "ExecuteTime": {
     "end_time": "2023-10-02T05:14:25.166498600Z",
     "start_time": "2023-10-02T05:14:24.494622600Z"
    }
   },
   "id": "d6120bdde4735023"
  },
  {
   "cell_type": "code",
   "execution_count": 48,
   "outputs": [],
   "source": [
    "\n",
    "def power_iteration(A, num_iterations):\n",
    "    \"\"\"\n",
    "    power iterations to find out 1 eigenvector of given matrix\n",
    "    \"\"\"\n",
    "    b = torch.rand(A.shape[1], dtype=torch.double)\n",
    "\n",
    "    for _ in range(num_iterations):\n",
    "        Ab = torch.mv(A, b)\n",
    "\n",
    "        norm = torch.linalg.vector_norm(Ab)\n",
    "        b = torch.div(Ab, norm)\n",
    "\n",
    "    return b\n",
    "\n",
    "def svd(A, num_iterations=1000, tol=1e-8):\n",
    "    \"\"\"\n",
    "    return SVD of matrix A, S will be of (r,r) dimensions where r is rank of matrix A\n",
    "    equivalent to numpy's np.linalg.svd(A, full_natrices=False) with tolerance for singular values\n",
    "    \"\"\"\n",
    "    ATA = torch.mm(A.T, A)\n",
    "\n",
    "    V = []\n",
    "    S = []\n",
    "    i = 0\n",
    "    # finding right singular vectors\n",
    "    for _ in tqdm(range(min(ATA.shape)), desc='Performing decomposition'):\n",
    "        eigenvector = power_iteration(ATA, num_iterations)\n",
    "        eigenvalue = torch.linalg.multi_dot([eigenvector, ATA, eigenvector])\n",
    "        if eigenvalue < tol:\n",
    "            break\n",
    "\n",
    "\n",
    "        eigenvector /= torch.norm(eigenvector)\n",
    "\n",
    "        V.append(eigenvector)\n",
    "        S.append(eigenvalue)\n",
    "\n",
    "        # reduce lambda * vT v from the eigendecomposition of AtA\n",
    "        ATA = ATA - eigenvalue * torch.outer(eigenvector, eigenvector)\n",
    "\n",
    "    if not S:\n",
    "        raise ValueError('Matrix has rank 0')\n",
    "\n",
    "    S = torch.sqrt(torch.tensor(S, dtype=torch.double))\n",
    "\n",
    "    # find the left singular vectors\n",
    "    V = torch.column_stack(V)\n",
    "    U = torch.linalg.multi_dot([A, V, torch.diag(1/S)])\n",
    "    return U, S, V.T\n",
    "\n",
    "def pinv(A, num_iterations=1000, tol=1e-8):\n",
    "    U, S, Vt = svd(A, num_iterations, tol)\n",
    "    return torch.linalg.multi_dot([Vt.T, torch.diag(1/S), U.T])"
   ],
   "metadata": {
    "collapsed": false,
    "ExecuteTime": {
     "end_time": "2023-10-02T05:14:25.183246500Z",
     "start_time": "2023-10-02T05:14:25.174244100Z"
    }
   },
   "id": "8bcec09121686342"
  },
  {
   "cell_type": "code",
   "execution_count": 49,
   "outputs": [
    {
     "name": "stderr",
     "output_type": "stream",
     "text": [
      "Performing decomposition:  97%|█████████▋| 1557/1600 [02:21<00:03, 10.99it/s]\n"
     ]
    }
   ],
   "source": [
    "A_pinv = pinv(A, num_iterations=200)"
   ],
   "metadata": {
    "collapsed": false,
    "ExecuteTime": {
     "end_time": "2023-10-02T05:16:46.938672200Z",
     "start_time": "2023-10-02T05:14:25.184244200Z"
    }
   },
   "id": "30d5c451f9f171cc"
  },
  {
   "cell_type": "code",
   "execution_count": 50,
   "outputs": [
    {
     "data": {
      "text/plain": "<Figure size 1200x500 with 4 Axes>",
      "image/png": "[encoded data removed]"
     },
     "metadata": {},
     "output_type": "display_data"
    }
   ],
   "source": [
    "A_pinv_rounded = torch.round(A_pinv, decimals=4)\n",
    "b = torch.from_numpy(b).cuda()\n",
    "x = torch.mv(A_pinv_rounded, b)\n",
    "x = np.array(x.cpu())\n",
    "plot_images(x.reshape(new_res, -1), img, cmap='bone')"
   ],
   "metadata": {
    "collapsed": false,
    "ExecuteTime": {
     "end_time": "2023-10-02T05:16:48.717347400Z",
     "start_time": "2023-10-02T05:16:46.928661800Z"
    }
   },
   "id": "85d21b0d3b8bab5f"
  }
 ],
 "metadata": {
  "kernelspec": {
   "display_name": "Python 3",
   "language": "python",
   "name": "python3"
  },
  "language_info": {
   "codemirror_mode": {
    "name": "ipython",
    "version": 2
   },
   "file_extension": ".py",
   "mimetype": "text/x-python",
   "name": "python",
   "nbconvert_exporter": "python",
   "pygments_lexer": "ipython2",
   "version": "2.7.6"
  }
 },
 "nbformat": 4,
 "nbformat_minor": 5
}
