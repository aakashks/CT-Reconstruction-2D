{
 "cells": [
  {
   "cell_type": "markdown",
   "source": [
    "# Test Notebook"
   ],
   "metadata": {
    "collapsed": false
   },
   "id": "57ad2bb7488761c3"
  },
  {
   "cell_type": "markdown",
   "source": [
    "This notebook is just for illustrating how all the implemented logics work and for testing their usage\\\n",
    "However, the complete application has been tested with the data in the json and csv files."
   ],
   "metadata": {
    "collapsed": false
   },
   "id": "63a7ad84239f12c9"
  },
  {
   "cell_type": "code",
   "execution_count": 1,
   "outputs": [],
   "source": [
    "import numpy as np\n",
    "import matplotlib.pyplot as plt"
   ],
   "metadata": {
    "collapsed": false,
    "ExecuteTime": {
     "end_time": "2023-08-29T18:54:51.619654200Z",
     "start_time": "2023-08-29T18:54:50.976136800Z"
    }
   },
   "id": "4df6dfd05614550f"
  },
  {
   "cell_type": "markdown",
   "source": [
    "## Intercept Logic"
   ],
   "metadata": {
    "collapsed": false
   },
   "id": "cb9c861000af77f"
  },
  {
   "cell_type": "code",
   "execution_count": 2,
   "outputs": [],
   "source": [
    "m = 0.2875\n",
    "c = 1.21\n",
    "\n",
    "z = 10\n",
    "n = 10"
   ],
   "metadata": {
    "collapsed": false,
    "ExecuteTime": {
     "end_time": "2023-08-29T18:54:51.635956300Z",
     "start_time": "2023-08-29T18:54:51.619654200Z"
    }
   },
   "id": "74158a4eaf8d8229"
  },
  {
   "cell_type": "code",
   "execution_count": 3,
   "outputs": [],
   "source": [
    "line_from_x = lambda x: m * x + c\n",
    "line_from_y = lambda y: (y - c)/m \n",
    "\n",
    "x = np.linspace(0, z, n, endpoint=False)\n",
    "k = z/n"
   ],
   "metadata": {
    "collapsed": false,
    "ExecuteTime": {
     "end_time": "2023-08-29T18:54:51.673858800Z",
     "start_time": "2023-08-29T18:54:51.640775700Z"
    }
   },
   "id": "4f2bbde205dee998"
  },
  {
   "cell_type": "code",
   "execution_count": 4,
   "outputs": [],
   "source": [
    "X, Y = np.meshgrid(x, x)\n",
    "Y_left = line_from_x(X)\n",
    "Y_right = line_from_x(X+k)\n",
    "X_down = line_from_y(Y)\n",
    "X_up = line_from_y(Y+k)"
   ],
   "metadata": {
    "collapsed": false,
    "ExecuteTime": {
     "end_time": "2023-08-29T18:54:51.673858800Z",
     "start_time": "2023-08-29T18:54:51.652120800Z"
    }
   },
   "id": "552e9aa103ea0b3d"
  },
  {
   "cell_type": "code",
   "execution_count": 5,
   "outputs": [
    {
     "data": {
      "text/plain": "<Figure size 640x480 with 1 Axes>",
      "image/png": "[encoded data removed]"
     },
     "metadata": {},
     "output_type": "display_data"
    }
   ],
   "source": [
    "plt.scatter(X, Y)\n",
    "plt.scatter(X, Y_left)\n",
    "plt.scatter(X_down, Y)\n",
    "plt.scatter(X+k, Y_right)\n",
    "plt.scatter(X_up, Y+k)\n",
    "\n",
    "plt.xlim([0, z])\n",
    "plt.ylim([0, z])\n",
    "\n",
    "plt.xticks(np.arange(0, z, k))\n",
    "plt.yticks(np.arange(0, z, k))\n",
    "\n",
    "plt.grid(visible=True);"
   ],
   "metadata": {
    "collapsed": false,
    "ExecuteTime": {
     "end_time": "2023-08-29T18:54:51.958377900Z",
     "start_time": "2023-08-29T18:54:51.671458Z"
    }
   },
   "id": "a5ddb3d7d5ff107f"
  },
  {
   "cell_type": "code",
   "execution_count": 6,
   "outputs": [],
   "source": [
    "Il = np.dstack([np.where(np.logical_and(Y <= Y_left, Y_left < Y+k), X, 0), \n",
    "                np.where(np.logical_and(Y <= Y_left, Y_left < Y+k), Y_left, 0)])"
   ],
   "metadata": {
    "collapsed": false,
    "ExecuteTime": {
     "end_time": "2023-08-29T18:54:52.004719600Z",
     "start_time": "2023-08-29T18:54:51.956779500Z"
    }
   },
   "id": "707c01fa5e56ace4"
  },
  {
   "cell_type": "code",
   "execution_count": 7,
   "outputs": [],
   "source": [
    "Ir = np.dstack([np.where(np.logical_and(Y <= Y_right, Y_right < Y + k), X+k, 0),\n",
    "                np.where(np.logical_and(Y <= Y_right, Y_right < Y + k), Y_right, 0)])"
   ],
   "metadata": {
    "collapsed": false,
    "ExecuteTime": {
     "end_time": "2023-08-29T18:54:52.006183900Z",
     "start_time": "2023-08-29T18:54:51.972478100Z"
    }
   },
   "id": "39bbb4e1330f30e3"
  },
  {
   "cell_type": "code",
   "execution_count": 8,
   "outputs": [],
   "source": [
    "Id = np.dstack([np.where(np.logical_and(X <= X_down, X_down < X + k), X_down, 0),\n",
    "                np.where(np.logical_and(X <= X_down, X_down < X + k), Y, 0)])"
   ],
   "metadata": {
    "collapsed": false,
    "ExecuteTime": {
     "end_time": "2023-08-29T18:54:52.006183900Z",
     "start_time": "2023-08-29T18:54:51.988799100Z"
    }
   },
   "id": "45a34e86ccd1753d"
  },
  {
   "cell_type": "code",
   "execution_count": 9,
   "outputs": [],
   "source": [
    "Iu = np.dstack([np.where(np.logical_and(X <= X_up, X_up < X + k), X_up, 0),\n",
    "                np.where(np.logical_and(X <= X_up, X_up < X + k), Y+1, 0)])"
   ],
   "metadata": {
    "collapsed": false,
    "ExecuteTime": {
     "end_time": "2023-08-29T18:54:52.030945900Z",
     "start_time": "2023-08-29T18:54:52.004719600Z"
    }
   },
   "id": "48e7109e2957b2a7"
  },
  {
   "cell_type": "code",
   "execution_count": 10,
   "outputs": [],
   "source": [
    "I = np.abs(np.abs(Il - Ir) - np.abs(Id - Iu))"
   ],
   "metadata": {
    "collapsed": false,
    "ExecuteTime": {
     "end_time": "2023-08-29T18:54:52.077805400Z",
     "start_time": "2023-08-29T18:54:52.018313400Z"
    }
   },
   "id": "e5162945fa9fbfc2"
  },
  {
   "cell_type": "code",
   "execution_count": 11,
   "outputs": [],
   "source": [
    "intercept_matrix = np.apply_along_axis(lambda xy: np.sqrt(xy[0]**2 + xy[1]**2), 2, I)"
   ],
   "metadata": {
    "collapsed": false,
    "ExecuteTime": {
     "end_time": "2023-08-29T18:54:52.077805400Z",
     "start_time": "2023-08-29T18:54:52.036224100Z"
    }
   },
   "id": "84f3aa1681180cbd"
  },
  {
   "cell_type": "code",
   "execution_count": 12,
   "outputs": [
    {
     "data": {
      "text/plain": "array([[0.        , 0.        , 0.        , 0.        , 0.        ,\n        0.        , 0.        , 0.        , 0.        , 0.        ],\n       [1.04050769, 1.04050769, 0.77811879, 0.        , 0.        ,\n        0.        , 0.        , 0.        , 0.        , 0.        ],\n       [0.        , 0.        , 0.2623889 , 1.04050769, 1.04050769,\n        1.04050769, 0.23524522, 0.        , 0.        , 0.        ],\n       [0.        , 0.        , 0.        , 0.        , 0.        ,\n        0.        , 0.80526247, 1.04050769, 1.04050769, 0.73287933],\n       [0.        , 0.        , 0.        , 0.        , 0.        ,\n        0.        , 0.        , 0.        , 0.        , 0.30762836],\n       [0.        , 0.        , 0.        , 0.        , 0.        ,\n        0.        , 0.        , 0.        , 0.        , 0.        ],\n       [0.        , 0.        , 0.        , 0.        , 0.        ,\n        0.        , 0.        , 0.        , 0.        , 0.        ],\n       [0.        , 0.        , 0.        , 0.        , 0.        ,\n        0.        , 0.        , 0.        , 0.        , 0.        ],\n       [0.        , 0.        , 0.        , 0.        , 0.        ,\n        0.        , 0.        , 0.        , 0.        , 0.        ],\n       [0.        , 0.        , 0.        , 0.        , 0.        ,\n        0.        , 0.        , 0.        , 0.        , 0.        ]])"
     },
     "execution_count": 12,
     "metadata": {},
     "output_type": "execute_result"
    }
   ],
   "source": [
    "intercept_matrix"
   ],
   "metadata": {
    "collapsed": false,
    "ExecuteTime": {
     "end_time": "2023-08-29T18:54:52.077805400Z",
     "start_time": "2023-08-29T18:54:52.051239900Z"
    }
   },
   "id": "aa8ae6f19ba6e19c"
  },
  {
   "cell_type": "code",
   "execution_count": 13,
   "outputs": [
    {
     "data": {
      "text/plain": "<Figure size 640x480 with 1 Axes>",
      "image/png": "[encoded data removed]"
     },
     "metadata": {},
     "output_type": "display_data"
    }
   ],
   "source": [
    "plt.imshow(intercept_matrix, origin='lower')\n",
    "\n",
    "plt.xticks(np.arange(0, z, k))\n",
    "plt.yticks(np.arange(0, z, k))\n",
    "\n",
    "plt.grid(visible=True)\n",
    "plt.show()"
   ],
   "metadata": {
    "collapsed": false,
    "ExecuteTime": {
     "end_time": "2023-08-29T18:54:52.264688200Z",
     "start_time": "2023-08-29T18:54:52.077805400Z"
    }
   },
   "id": "249cd2bf337597f0"
  },
  {
   "cell_type": "code",
   "execution_count": 14,
   "outputs": [
    {
     "data": {
      "text/plain": "array([0.        , 0.        , 0.        , 0.        , 0.        ,\n       0.        , 0.        , 0.        , 0.        , 0.        ,\n       1.04050769, 1.04050769, 0.77811879, 0.        , 0.        ,\n       0.        , 0.        , 0.        , 0.        , 0.        ,\n       0.        , 0.        , 0.2623889 , 1.04050769, 1.04050769,\n       1.04050769, 0.23524522, 0.        , 0.        , 0.        ,\n       0.        , 0.        , 0.        , 0.        , 0.        ,\n       0.        , 0.80526247, 1.04050769, 1.04050769, 0.73287933,\n       0.        , 0.        , 0.        , 0.        , 0.        ,\n       0.        , 0.        , 0.        , 0.        , 0.30762836,\n       0.        , 0.        , 0.        , 0.        , 0.        ,\n       0.        , 0.        , 0.        , 0.        , 0.        ,\n       0.        , 0.        , 0.        , 0.        , 0.        ,\n       0.        , 0.        , 0.        , 0.        , 0.        ,\n       0.        , 0.        , 0.        , 0.        , 0.        ,\n       0.        , 0.        , 0.        , 0.        , 0.        ,\n       0.        , 0.        , 0.        , 0.        , 0.        ,\n       0.        , 0.        , 0.        , 0.        , 0.        ,\n       0.        , 0.        , 0.        , 0.        , 0.        ,\n       0.        , 0.        , 0.        , 0.        , 0.        ])"
     },
     "execution_count": 14,
     "metadata": {},
     "output_type": "execute_result"
    }
   ],
   "source": [
    "intercept_matrix.flatten()"
   ],
   "metadata": {
    "collapsed": false,
    "ExecuteTime": {
     "end_time": "2023-08-29T18:54:52.285456Z",
     "start_time": "2023-08-29T18:54:52.258838400Z"
    }
   },
   "id": "2f9ea263d6480d12"
  },
  {
   "cell_type": "code",
   "execution_count": 15,
   "outputs": [],
   "source": [
    "mat_restored = intercept_matrix.reshape(10,10)"
   ],
   "metadata": {
    "collapsed": false,
    "ExecuteTime": {
     "end_time": "2023-08-29T18:54:52.286753500Z",
     "start_time": "2023-08-29T18:54:52.269104200Z"
    }
   },
   "id": "9414f6c90d3eaea0"
  },
  {
   "cell_type": "code",
   "execution_count": 16,
   "outputs": [
    {
     "data": {
      "text/plain": "array([[0.        , 0.        , 0.        , 0.        , 0.        ,\n        0.        , 0.        , 0.        , 0.        , 0.        ],\n       [1.04050769, 1.04050769, 0.77811879, 0.        , 0.        ,\n        0.        , 0.        , 0.        , 0.        , 0.        ],\n       [0.        , 0.        , 0.2623889 , 1.04050769, 1.04050769,\n        1.04050769, 0.23524522, 0.        , 0.        , 0.        ],\n       [0.        , 0.        , 0.        , 0.        , 0.        ,\n        0.        , 0.80526247, 1.04050769, 1.04050769, 0.73287933],\n       [0.        , 0.        , 0.        , 0.        , 0.        ,\n        0.        , 0.        , 0.        , 0.        , 0.30762836],\n       [0.        , 0.        , 0.        , 0.        , 0.        ,\n        0.        , 0.        , 0.        , 0.        , 0.        ],\n       [0.        , 0.        , 0.        , 0.        , 0.        ,\n        0.        , 0.        , 0.        , 0.        , 0.        ],\n       [0.        , 0.        , 0.        , 0.        , 0.        ,\n        0.        , 0.        , 0.        , 0.        , 0.        ],\n       [0.        , 0.        , 0.        , 0.        , 0.        ,\n        0.        , 0.        , 0.        , 0.        , 0.        ],\n       [0.        , 0.        , 0.        , 0.        , 0.        ,\n        0.        , 0.        , 0.        , 0.        , 0.        ]])"
     },
     "execution_count": 16,
     "metadata": {},
     "output_type": "execute_result"
    }
   ],
   "source": [
    "mat_restored"
   ],
   "metadata": {
    "collapsed": false,
    "ExecuteTime": {
     "end_time": "2023-08-29T18:54:52.303239500Z",
     "start_time": "2023-08-29T18:54:52.287263300Z"
    }
   },
   "id": "a60e51649a8fad2e"
  },
  {
   "cell_type": "markdown",
   "source": [
    "## Line generating logic"
   ],
   "metadata": {
    "collapsed": false
   },
   "id": "d89b884666ba15b0"
  },
  {
   "cell_type": "code",
   "execution_count": 60,
   "outputs": [],
   "source": [
    "phi = np.pi\n",
    "n = 4\n",
    "r = 2\n",
    "x = 8\n",
    "theta = 20/180 * np.pi\n",
    "z = 4"
   ],
   "metadata": {
    "collapsed": false,
    "ExecuteTime": {
     "end_time": "2023-08-29T19:06:28.255255800Z",
     "start_time": "2023-08-29T19:06:28.237689900Z"
    }
   },
   "id": "1399575e7a37e489"
  },
  {
   "cell_type": "code",
   "execution_count": 61,
   "outputs": [],
   "source": [
    "phis = np.array([i * phi for i in range(r)], ndmin=2)\n",
    "thetas = np.array(\n",
    "    [i / 2 * theta for i in range(-n + 1, n, 2)]\n",
    "    if n % 2 == 0 else\n",
    "    [i * theta for i in range(-(n // 2), n // 2 + 1)],\n",
    "    ndmin=2)"
   ],
   "metadata": {
    "collapsed": false,
    "ExecuteTime": {
     "end_time": "2023-08-29T19:06:28.406826200Z",
     "start_time": "2023-08-29T19:06:28.375564100Z"
    }
   },
   "id": "c433885bc038d3fd"
  },
  {
   "cell_type": "code",
   "execution_count": 62,
   "outputs": [
    {
     "data": {
      "text/plain": "array([[-0.52359878, -0.17453293,  0.17453293,  0.52359878]])"
     },
     "execution_count": 62,
     "metadata": {},
     "output_type": "execute_result"
    }
   ],
   "source": [
    "thetas"
   ],
   "metadata": {
    "collapsed": false,
    "ExecuteTime": {
     "end_time": "2023-08-29T19:06:29.097994500Z",
     "start_time": "2023-08-29T19:06:29.050665900Z"
    }
   },
   "id": "e2e654b774131bbd"
  },
  {
   "cell_type": "code",
   "execution_count": 73,
   "outputs": [],
   "source": [
    "\n",
    "# distances from the centre of the object\n",
    "distances_from_center = x * np.sin(thetas)\n",
    "\n",
    "# beta is slope of line (angle from +ve x-axis)\n",
    "# generate all possible values of beta for different combinations of theta and phi\n",
    "betas = (np.pi / 2 - thetas) + phis.T"
   ],
   "metadata": {
    "collapsed": false,
    "ExecuteTime": {
     "start_time": "2023-08-29T15:17:49.434896600Z"
    }
   },
   "id": "9829bda0cad15a5f"
  },
  {
   "cell_type": "code",
   "execution_count": 74,
   "outputs": [
    {
     "data": {
      "text/plain": "array([[-1.38918542,  1.38918542]])"
     },
     "execution_count": 74,
     "metadata": {},
     "output_type": "execute_result"
    }
   ],
   "source": [
    "distances_from_center"
   ],
   "metadata": {
    "collapsed": false,
    "ExecuteTime": {
     "end_time": "2023-08-29T15:17:49.558711300Z",
     "start_time": "2023-08-29T15:17:49.447896900Z"
    }
   },
   "id": "1862d7c7c91991df"
  },
  {
   "cell_type": "code",
   "execution_count": 75,
   "outputs": [
    {
     "data": {
      "text/plain": "array([[1.74532925, 1.3962634 ],\n       [4.88692191, 4.53785606]])"
     },
     "execution_count": 75,
     "metadata": {},
     "output_type": "execute_result"
    }
   ],
   "source": [
    "betas"
   ],
   "metadata": {
    "collapsed": false,
    "ExecuteTime": {
     "end_time": "2023-08-29T15:17:49.559680700Z",
     "start_time": "2023-08-29T15:17:49.463896700Z"
    }
   },
   "id": "771b02d6a679889b"
  },
  {
   "cell_type": "code",
   "execution_count": 76,
   "outputs": [],
   "source": [
    "# changing origin\n",
    "distances_from_bottom_left = (1 - 1 / np.tan(betas)) * (z / 2) + distances_from_center/np.sin(betas)"
   ],
   "metadata": {
    "collapsed": false,
    "ExecuteTime": {
     "end_time": "2023-08-29T15:17:49.559680700Z",
     "start_time": "2023-08-29T15:17:49.480905100Z"
    }
   },
   "id": "2b0862eccc38281e"
  },
  {
   "cell_type": "code",
   "execution_count": 77,
   "outputs": [
    {
     "data": {
      "text/plain": "array([[0.94203812, 3.05796188],\n       [3.76326981, 0.23673019]])"
     },
     "execution_count": 77,
     "metadata": {},
     "output_type": "execute_result"
    }
   ],
   "source": [
    "distances_from_bottom_left"
   ],
   "metadata": {
    "collapsed": false,
    "ExecuteTime": {
     "end_time": "2023-08-29T15:17:49.597679200Z",
     "start_time": "2023-08-29T15:17:49.496893100Z"
    }
   },
   "id": "ac48bb0b208b3d56"
  },
  {
   "cell_type": "code",
   "execution_count": 78,
   "outputs": [
    {
     "data": {
      "text/plain": "array([[0.94203812, 1.74532925],\n       [3.05796188, 1.3962634 ],\n       [3.76326981, 4.88692191],\n       [0.23673019, 4.53785606]])"
     },
     "execution_count": 78,
     "metadata": {},
     "output_type": "execute_result"
    }
   ],
   "source": [
    "# merge distance and angle into a couple of parameters\n",
    "line_params_array = np.dstack([distances_from_bottom_left, betas]).reshape(-1, 2)\n",
    "line_params_array"
   ],
   "metadata": {
    "collapsed": false,
    "ExecuteTime": {
     "end_time": "2023-08-29T15:17:49.597679200Z",
     "start_time": "2023-08-29T15:17:49.512895600Z"
    }
   },
   "id": "dbf54191dbdb3705"
  }
 ],
 "metadata": {
  "kernelspec": {
   "display_name": "Python 3",
   "language": "python",
   "name": "python3"
  },
  "language_info": {
   "codemirror_mode": {
    "name": "ipython",
    "version": 2
   },
   "file_extension": ".py",
   "mimetype": "text/x-python",
   "name": "python",
   "nbconvert_exporter": "python",
   "pygments_lexer": "ipython2",
   "version": "2.7.6"
  }
 },
 "nbformat": 4,
 "nbformat_minor": 5
}
