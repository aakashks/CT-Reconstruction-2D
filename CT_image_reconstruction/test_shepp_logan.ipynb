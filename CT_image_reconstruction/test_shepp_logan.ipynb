{
 "cells": [
  {
   "cell_type": "code",
   "execution_count": 2,
   "id": "initial_id",
   "metadata": {
    "collapsed": true,
    "ExecuteTime": {
     "end_time": "2023-08-29T14:47:07.849749200Z",
     "start_time": "2023-08-29T14:47:07.834749600Z"
    }
   },
   "outputs": [],
   "source": [
    "from core import *"
   ]
  },
  {
   "cell_type": "code",
   "execution_count": null,
   "outputs": [],
   "source": [
    "params = {\n",
    "  \"no_of_detectors\": 2,\n",
    "  \"source_to_object\": 8,\n",
    "  \"source_to_detector\": 20,\n",
    "  \"size_of_object\": 4,\n",
    "  \"no_of_rotations\": 2,\n",
    "  \"detector_aperture\": 7.053079228338599,\n",
    "  \"resolution\": None\n",
    "}"
   ],
   "metadata": {
    "collapsed": false
   },
   "id": "29f5c521ff2ca8a5"
  },
  {
   "cell_type": "code",
   "execution_count": null,
   "outputs": [],
   "source": [
    "# # INPUT from user\n",
    "# no_of_detectors = int(input(\"Enter no_of_detectors: \"))\n",
    "# source_to_object = float(input(\"Enter source_to_object: \"))\n",
    "# source_to_detector = float(input(\"Enter source_to_detector: \"))\n",
    "# size_of_object = float(input(\"Enter size_of_object: \"))\n",
    "# no_of_rotations = int(input(\"Enter no_of_rotations: \"))\n",
    "# detector_aperture = float(input(\"Enter detector_aperture: \"))\n",
    "\n",
    "# storing detector readings in the b vector\n",
    "# TODO: -TEMPORARY- readings are directly ln(I_o/I) values\n",
    "# # only readings\n",
    "# detector_readings = pd.read_csv('./readings.csv', header=None).to_numpy()\n",
    "\n",
    "# if readings has detector no and orientations\n",
    "detector_readings = pd.read_csv('./full_readings.csv').sort_values(by=['Rotation_no', 'Detector_no'])['Reading'].to_numpy()\n",
    "\n",
    "# # TEMPORARY: inputting from user\n",
    "# readings = input('Enter space separated readings: ')\n",
    "# detector_readings = np.array(readings.split(), dtype='float')\n",
    "\n",
    "d = detector_readings.reshape(-1, 1)\n",
    "\n",
    "A = CreateInterceptMatrix(**params).create_intercept_matrix_from_lines()\n",
    "\n",
    "# TEMPORARILY using libraries for solving equation\n",
    "lambdas = SolveEquation(A, d).solve(useLibrary='lstsq')\n",
    "\n",
    "img = GenerateImage(lambdas)\n",
    "fig = img.make_figure()\n",
    "plt.show()"
   ],
   "metadata": {
    "collapsed": false
   },
   "id": "85d21b0d3b8bab5f"
  }
 ],
 "metadata": {
  "kernelspec": {
   "display_name": "Python 3",
   "language": "python",
   "name": "python3"
  },
  "language_info": {
   "codemirror_mode": {
    "name": "ipython",
    "version": 2
   },
   "file_extension": ".py",
   "mimetype": "text/x-python",
   "name": "python",
   "nbconvert_exporter": "python",
   "pygments_lexer": "ipython2",
   "version": "2.7.6"
  }
 },
 "nbformat": 4,
 "nbformat_minor": 5
}
